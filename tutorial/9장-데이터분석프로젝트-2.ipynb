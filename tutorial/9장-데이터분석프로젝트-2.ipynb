{
 "cells": [
  {
   "cell_type": "markdown",
   "id": "4ec2ce30",
   "metadata": {},
   "source": [
    "# 9장 데이터 분석 프로젝트 - 한국인의 삶을 파악하라\n",
    "# - 두번째 시간 \n",
    "\n",
    "# 한국복지패널 데이터 분석\n",
    "- 한국보건사회연구원에서 우리나가 가구의 경제활동을 연구한 데이터\n",
    "- 전국 7,000여 가구를 선정하여 2006년 부터 매년 추적 조사한 자료\n",
    "- 경제활동, 생활실태, 복지욕구 등 천여개 변수로 구성됨\n",
    "- 통계 패키지 SPSS 전용 파일\n",
    "- bit.ly/easypy_91"
   ]
  },
  {
   "cell_type": "markdown",
   "id": "6d28d351-3f8d-41ae-8255-f32ef4e04fb1",
   "metadata": {
    "tags": []
   },
   "source": [
    "## 학습 목표\n",
    "\n",
    "### 09-1 한국복지패널 데이터 분석 준비하기\n",
    "\n",
    "### 09-6 직업별 월급 차이 - 어떤 직업이 월급을 가장 많이 받을까?\n",
    "\n",
    "### 09-7 성별 직업 빈도 - 성별로 어떤 직업이 가장 많을까?\n",
    "\n",
    "### 09-8 종교 유무에 따른 이혼율 - 종교가 있으면 이혼을 덜 할까?\n",
    "\n",
    "### 09-9 지역별 연령대 비율 - 어느 지역에 노년층이 많을까?"
   ]
  },
  {
   "cell_type": "markdown",
   "id": "5dc3f50a",
   "metadata": {},
   "source": [
    "# 9-1 한국복지패널 데이터 분석 준비하기"
   ]
  },
  {
   "cell_type": "markdown",
   "id": "274260f7",
   "metadata": {},
   "source": [
    "### Lab 1 : 데이터 분석 준비하기"
   ]
  },
  {
   "cell_type": "markdown",
   "id": "b84a37f7",
   "metadata": {},
   "source": [
    "1. 데이터 준비하기\n",
    "- Koweps_hpwc14_2019_beta2.sav vkdlf ekdnsfhem\n",
    "- 202년 발간된 복지패널 데이터로, 6331가구, 14,418명 정보를 담고 있음"
   ]
  },
  {
   "cell_type": "markdown",
   "id": "3efb5360",
   "metadata": {},
   "source": [
    "2. 패키지 설치 및 로드하기\n",
    "- 실습에 사용항 데이터 파일은 통계 분석 패키지인 SPAA 전용 파일임\n",
    "- pyreadstat 패키지를 설치하면 SPSS, SAS, STATA등 다양한 통계 분석 소프트웨어 데이터 파일을 불러 올 수 있음\n",
    "- pip install pyreadstat"
   ]
  },
  {
   "cell_type": "code",
   "execution_count": 7,
   "id": "98e2f82c",
   "metadata": {
    "tags": []
   },
   "outputs": [],
   "source": [
    "import pandas as pd\n",
    "import numpy as np\n",
    "import seaborn as sns"
   ]
  },
  {
   "cell_type": "code",
   "execution_count": 8,
   "id": "882b6762",
   "metadata": {
    "tags": []
   },
   "outputs": [
    {
     "name": "stdout",
     "output_type": "stream",
     "text": [
      "Requirement already satisfied: pyreadstat in c:\\users\\user\\anaconda3\\lib\\site-packages (1.2.7)\n",
      "Requirement already satisfied: pandas>=1.2.0 in c:\\users\\user\\anaconda3\\lib\\site-packages (from pyreadstat) (2.2.2)\n",
      "Requirement already satisfied: numpy>=1.26.0 in c:\\users\\user\\anaconda3\\lib\\site-packages (from pandas>=1.2.0->pyreadstat) (1.26.4)\n",
      "Requirement already satisfied: python-dateutil>=2.8.2 in c:\\users\\user\\anaconda3\\lib\\site-packages (from pandas>=1.2.0->pyreadstat) (2.9.0.post0)\n",
      "Requirement already satisfied: pytz>=2020.1 in c:\\users\\user\\anaconda3\\lib\\site-packages (from pandas>=1.2.0->pyreadstat) (2024.1)\n",
      "Requirement already satisfied: tzdata>=2022.7 in c:\\users\\user\\anaconda3\\lib\\site-packages (from pandas>=1.2.0->pyreadstat) (2023.3)\n",
      "Requirement already satisfied: six>=1.5 in c:\\users\\user\\anaconda3\\lib\\site-packages (from python-dateutil>=2.8.2->pandas>=1.2.0->pyreadstat) (1.16.0)\n",
      "Note: you may need to restart the kernel to use updated packages.\n"
     ]
    }
   ],
   "source": [
    "pip install pyreadstat"
   ]
  },
  {
   "cell_type": "markdown",
   "id": "eb0ff4d1",
   "metadata": {},
   "source": [
    "3. 데이터 불러오기\n",
    "- pd.read_spss()로 데이터 불러오기\n",
    "- df.copy()로 복사본을 만들어 분석에 활용함"
   ]
  },
  {
   "cell_type": "code",
   "execution_count": 10,
   "id": "3b562abe",
   "metadata": {
    "tags": []
   },
   "outputs": [],
   "source": [
    "# 데이터 불러오기\n",
    "raw_welfare = pd.read_spss('Koweps_hpwc14_2019_beta2.sav')"
   ]
  },
  {
   "cell_type": "code",
   "execution_count": 11,
   "id": "4751b3a5",
   "metadata": {
    "tags": []
   },
   "outputs": [],
   "source": [
    "# 복사본 만들기\n",
    "welfare = raw_welfare.copy()"
   ]
  },
  {
   "cell_type": "code",
   "execution_count": 12,
   "id": "82e36d4b",
   "metadata": {
    "tags": []
   },
   "outputs": [
    {
     "data": {
      "text/html": [
       "<div>\n",
       "<style scoped>\n",
       "    .dataframe tbody tr th:only-of-type {\n",
       "        vertical-align: middle;\n",
       "    }\n",
       "\n",
       "    .dataframe tbody tr th {\n",
       "        vertical-align: top;\n",
       "    }\n",
       "\n",
       "    .dataframe thead th {\n",
       "        text-align: right;\n",
       "    }\n",
       "</style>\n",
       "<table border=\"1\" class=\"dataframe\">\n",
       "  <thead>\n",
       "    <tr style=\"text-align: right;\">\n",
       "      <th></th>\n",
       "      <th>h14_id</th>\n",
       "      <th>h14_ind</th>\n",
       "      <th>h14_sn</th>\n",
       "      <th>h14_merkey</th>\n",
       "      <th>h_new</th>\n",
       "      <th>h14_cobf</th>\n",
       "      <th>p14_wsc</th>\n",
       "      <th>p14_wsl</th>\n",
       "      <th>p14_wgc</th>\n",
       "      <th>p14_wgl</th>\n",
       "      <th>...</th>\n",
       "      <th>wc14_64</th>\n",
       "      <th>wc14_65</th>\n",
       "      <th>wc14_5aq4</th>\n",
       "      <th>wc14_5aq5</th>\n",
       "      <th>wc14_5aq6</th>\n",
       "      <th>h14_pers_income1</th>\n",
       "      <th>h14_pers_income2</th>\n",
       "      <th>h14_pers_income3</th>\n",
       "      <th>h14_pers_income4</th>\n",
       "      <th>h14_pers_income5</th>\n",
       "    </tr>\n",
       "  </thead>\n",
       "  <tbody>\n",
       "    <tr>\n",
       "      <th>0</th>\n",
       "      <td>2.0</td>\n",
       "      <td>1.0</td>\n",
       "      <td>1.0</td>\n",
       "      <td>20101.0</td>\n",
       "      <td>0.0</td>\n",
       "      <td>NaN</td>\n",
       "      <td>0.291589</td>\n",
       "      <td>0.291589</td>\n",
       "      <td>1307.764781</td>\n",
       "      <td>1307.764781</td>\n",
       "      <td>...</td>\n",
       "      <td>NaN</td>\n",
       "      <td></td>\n",
       "      <td>NaN</td>\n",
       "      <td>NaN</td>\n",
       "      <td>NaN</td>\n",
       "      <td>NaN</td>\n",
       "      <td>NaN</td>\n",
       "      <td>NaN</td>\n",
       "      <td>0.0</td>\n",
       "      <td>NaN</td>\n",
       "    </tr>\n",
       "    <tr>\n",
       "      <th>1</th>\n",
       "      <td>3.0</td>\n",
       "      <td>1.0</td>\n",
       "      <td>1.0</td>\n",
       "      <td>30101.0</td>\n",
       "      <td>0.0</td>\n",
       "      <td>NaN</td>\n",
       "      <td>0.419753</td>\n",
       "      <td>0.419753</td>\n",
       "      <td>1882.570960</td>\n",
       "      <td>1882.570960</td>\n",
       "      <td>...</td>\n",
       "      <td>NaN</td>\n",
       "      <td></td>\n",
       "      <td>NaN</td>\n",
       "      <td>NaN</td>\n",
       "      <td>NaN</td>\n",
       "      <td>NaN</td>\n",
       "      <td>NaN</td>\n",
       "      <td>NaN</td>\n",
       "      <td>0.0</td>\n",
       "      <td>NaN</td>\n",
       "    </tr>\n",
       "    <tr>\n",
       "      <th>2</th>\n",
       "      <td>4.0</td>\n",
       "      <td>1.0</td>\n",
       "      <td>1.0</td>\n",
       "      <td>40101.0</td>\n",
       "      <td>0.0</td>\n",
       "      <td>NaN</td>\n",
       "      <td>0.265263</td>\n",
       "      <td>0.265980</td>\n",
       "      <td>1189.691668</td>\n",
       "      <td>1192.908537</td>\n",
       "      <td>...</td>\n",
       "      <td>NaN</td>\n",
       "      <td></td>\n",
       "      <td>NaN</td>\n",
       "      <td>NaN</td>\n",
       "      <td>NaN</td>\n",
       "      <td>NaN</td>\n",
       "      <td>1284.0</td>\n",
       "      <td>NaN</td>\n",
       "      <td>0.0</td>\n",
       "      <td>NaN</td>\n",
       "    </tr>\n",
       "    <tr>\n",
       "      <th>3</th>\n",
       "      <td>6.0</td>\n",
       "      <td>1.0</td>\n",
       "      <td>1.0</td>\n",
       "      <td>60101.0</td>\n",
       "      <td>0.0</td>\n",
       "      <td>NaN</td>\n",
       "      <td>0.494906</td>\n",
       "      <td>0.495941</td>\n",
       "      <td>2219.630833</td>\n",
       "      <td>2224.273816</td>\n",
       "      <td>...</td>\n",
       "      <td>1.0</td>\n",
       "      <td>.</td>\n",
       "      <td>2.0</td>\n",
       "      <td>4.0</td>\n",
       "      <td>4.0</td>\n",
       "      <td>2304.0</td>\n",
       "      <td>NaN</td>\n",
       "      <td>1800.0</td>\n",
       "      <td>0.0</td>\n",
       "      <td>NaN</td>\n",
       "    </tr>\n",
       "    <tr>\n",
       "      <th>4</th>\n",
       "      <td>6.0</td>\n",
       "      <td>1.0</td>\n",
       "      <td>1.0</td>\n",
       "      <td>60101.0</td>\n",
       "      <td>0.0</td>\n",
       "      <td>NaN</td>\n",
       "      <td>1.017935</td>\n",
       "      <td>1.017935</td>\n",
       "      <td>4565.389177</td>\n",
       "      <td>4565.389177</td>\n",
       "      <td>...</td>\n",
       "      <td>1.0</td>\n",
       "      <td>.</td>\n",
       "      <td>1.0</td>\n",
       "      <td>5.0</td>\n",
       "      <td>2.0</td>\n",
       "      <td>NaN</td>\n",
       "      <td>NaN</td>\n",
       "      <td>NaN</td>\n",
       "      <td>0.0</td>\n",
       "      <td>NaN</td>\n",
       "    </tr>\n",
       "  </tbody>\n",
       "</table>\n",
       "<p>5 rows × 830 columns</p>\n",
       "</div>"
      ],
      "text/plain": [
       "   h14_id  h14_ind  h14_sn  h14_merkey  h_new  h14_cobf   p14_wsc   p14_wsl  \\\n",
       "0     2.0      1.0     1.0     20101.0    0.0       NaN  0.291589  0.291589   \n",
       "1     3.0      1.0     1.0     30101.0    0.0       NaN  0.419753  0.419753   \n",
       "2     4.0      1.0     1.0     40101.0    0.0       NaN  0.265263  0.265980   \n",
       "3     6.0      1.0     1.0     60101.0    0.0       NaN  0.494906  0.495941   \n",
       "4     6.0      1.0     1.0     60101.0    0.0       NaN  1.017935  1.017935   \n",
       "\n",
       "       p14_wgc      p14_wgl  ...  wc14_64  wc14_65  wc14_5aq4  wc14_5aq5  \\\n",
       "0  1307.764781  1307.764781  ...      NaN                 NaN        NaN   \n",
       "1  1882.570960  1882.570960  ...      NaN                 NaN        NaN   \n",
       "2  1189.691668  1192.908537  ...      NaN                 NaN        NaN   \n",
       "3  2219.630833  2224.273816  ...      1.0        .        2.0        4.0   \n",
       "4  4565.389177  4565.389177  ...      1.0        .        1.0        5.0   \n",
       "\n",
       "   wc14_5aq6  h14_pers_income1  h14_pers_income2  h14_pers_income3  \\\n",
       "0        NaN               NaN               NaN               NaN   \n",
       "1        NaN               NaN               NaN               NaN   \n",
       "2        NaN               NaN            1284.0               NaN   \n",
       "3        4.0            2304.0               NaN            1800.0   \n",
       "4        2.0               NaN               NaN               NaN   \n",
       "\n",
       "   h14_pers_income4  h14_pers_income5  \n",
       "0               0.0               NaN  \n",
       "1               0.0               NaN  \n",
       "2               0.0               NaN  \n",
       "3               0.0               NaN  \n",
       "4               0.0               NaN  \n",
       "\n",
       "[5 rows x 830 columns]"
      ]
     },
     "execution_count": 12,
     "metadata": {},
     "output_type": "execute_result"
    }
   ],
   "source": [
    "welfare.head()"
   ]
  },
  {
   "cell_type": "markdown",
   "id": "a29d780b",
   "metadata": {},
   "source": [
    "4. 데이터 검토하기\n",
    "- 데이터의 특성을 살펴보기\n",
    "- 행, 열 개수\n",
    "- 변수 속성\n",
    "- 요약 통계양"
   ]
  },
  {
   "cell_type": "code",
   "execution_count": 14,
   "id": "6f02fb1b",
   "metadata": {
    "tags": []
   },
   "outputs": [
    {
     "data": {
      "text/html": [
       "<div>\n",
       "<style scoped>\n",
       "    .dataframe tbody tr th:only-of-type {\n",
       "        vertical-align: middle;\n",
       "    }\n",
       "\n",
       "    .dataframe tbody tr th {\n",
       "        vertical-align: top;\n",
       "    }\n",
       "\n",
       "    .dataframe thead th {\n",
       "        text-align: right;\n",
       "    }\n",
       "</style>\n",
       "<table border=\"1\" class=\"dataframe\">\n",
       "  <thead>\n",
       "    <tr style=\"text-align: right;\">\n",
       "      <th></th>\n",
       "      <th>h14_id</th>\n",
       "      <th>h14_ind</th>\n",
       "      <th>h14_sn</th>\n",
       "      <th>h14_merkey</th>\n",
       "      <th>h_new</th>\n",
       "      <th>h14_cobf</th>\n",
       "      <th>p14_wsc</th>\n",
       "      <th>p14_wsl</th>\n",
       "      <th>p14_wgc</th>\n",
       "      <th>p14_wgl</th>\n",
       "      <th>...</th>\n",
       "      <th>wc14_64</th>\n",
       "      <th>wc14_65</th>\n",
       "      <th>wc14_5aq4</th>\n",
       "      <th>wc14_5aq5</th>\n",
       "      <th>wc14_5aq6</th>\n",
       "      <th>h14_pers_income1</th>\n",
       "      <th>h14_pers_income2</th>\n",
       "      <th>h14_pers_income3</th>\n",
       "      <th>h14_pers_income4</th>\n",
       "      <th>h14_pers_income5</th>\n",
       "    </tr>\n",
       "  </thead>\n",
       "  <tbody>\n",
       "    <tr>\n",
       "      <th>0</th>\n",
       "      <td>2.0</td>\n",
       "      <td>1.0</td>\n",
       "      <td>1.0</td>\n",
       "      <td>20101.0</td>\n",
       "      <td>0.0</td>\n",
       "      <td>NaN</td>\n",
       "      <td>0.291589</td>\n",
       "      <td>0.291589</td>\n",
       "      <td>1307.764781</td>\n",
       "      <td>1307.764781</td>\n",
       "      <td>...</td>\n",
       "      <td>NaN</td>\n",
       "      <td></td>\n",
       "      <td>NaN</td>\n",
       "      <td>NaN</td>\n",
       "      <td>NaN</td>\n",
       "      <td>NaN</td>\n",
       "      <td>NaN</td>\n",
       "      <td>NaN</td>\n",
       "      <td>0.0</td>\n",
       "      <td>NaN</td>\n",
       "    </tr>\n",
       "    <tr>\n",
       "      <th>1</th>\n",
       "      <td>3.0</td>\n",
       "      <td>1.0</td>\n",
       "      <td>1.0</td>\n",
       "      <td>30101.0</td>\n",
       "      <td>0.0</td>\n",
       "      <td>NaN</td>\n",
       "      <td>0.419753</td>\n",
       "      <td>0.419753</td>\n",
       "      <td>1882.570960</td>\n",
       "      <td>1882.570960</td>\n",
       "      <td>...</td>\n",
       "      <td>NaN</td>\n",
       "      <td></td>\n",
       "      <td>NaN</td>\n",
       "      <td>NaN</td>\n",
       "      <td>NaN</td>\n",
       "      <td>NaN</td>\n",
       "      <td>NaN</td>\n",
       "      <td>NaN</td>\n",
       "      <td>0.0</td>\n",
       "      <td>NaN</td>\n",
       "    </tr>\n",
       "    <tr>\n",
       "      <th>2</th>\n",
       "      <td>4.0</td>\n",
       "      <td>1.0</td>\n",
       "      <td>1.0</td>\n",
       "      <td>40101.0</td>\n",
       "      <td>0.0</td>\n",
       "      <td>NaN</td>\n",
       "      <td>0.265263</td>\n",
       "      <td>0.265980</td>\n",
       "      <td>1189.691668</td>\n",
       "      <td>1192.908537</td>\n",
       "      <td>...</td>\n",
       "      <td>NaN</td>\n",
       "      <td></td>\n",
       "      <td>NaN</td>\n",
       "      <td>NaN</td>\n",
       "      <td>NaN</td>\n",
       "      <td>NaN</td>\n",
       "      <td>1284.0</td>\n",
       "      <td>NaN</td>\n",
       "      <td>0.0</td>\n",
       "      <td>NaN</td>\n",
       "    </tr>\n",
       "    <tr>\n",
       "      <th>3</th>\n",
       "      <td>6.0</td>\n",
       "      <td>1.0</td>\n",
       "      <td>1.0</td>\n",
       "      <td>60101.0</td>\n",
       "      <td>0.0</td>\n",
       "      <td>NaN</td>\n",
       "      <td>0.494906</td>\n",
       "      <td>0.495941</td>\n",
       "      <td>2219.630833</td>\n",
       "      <td>2224.273816</td>\n",
       "      <td>...</td>\n",
       "      <td>1.0</td>\n",
       "      <td>.</td>\n",
       "      <td>2.0</td>\n",
       "      <td>4.0</td>\n",
       "      <td>4.0</td>\n",
       "      <td>2304.0</td>\n",
       "      <td>NaN</td>\n",
       "      <td>1800.0</td>\n",
       "      <td>0.0</td>\n",
       "      <td>NaN</td>\n",
       "    </tr>\n",
       "    <tr>\n",
       "      <th>4</th>\n",
       "      <td>6.0</td>\n",
       "      <td>1.0</td>\n",
       "      <td>1.0</td>\n",
       "      <td>60101.0</td>\n",
       "      <td>0.0</td>\n",
       "      <td>NaN</td>\n",
       "      <td>1.017935</td>\n",
       "      <td>1.017935</td>\n",
       "      <td>4565.389177</td>\n",
       "      <td>4565.389177</td>\n",
       "      <td>...</td>\n",
       "      <td>1.0</td>\n",
       "      <td>.</td>\n",
       "      <td>1.0</td>\n",
       "      <td>5.0</td>\n",
       "      <td>2.0</td>\n",
       "      <td>NaN</td>\n",
       "      <td>NaN</td>\n",
       "      <td>NaN</td>\n",
       "      <td>0.0</td>\n",
       "      <td>NaN</td>\n",
       "    </tr>\n",
       "  </tbody>\n",
       "</table>\n",
       "<p>5 rows × 830 columns</p>\n",
       "</div>"
      ],
      "text/plain": [
       "   h14_id  h14_ind  h14_sn  h14_merkey  h_new  h14_cobf   p14_wsc   p14_wsl  \\\n",
       "0     2.0      1.0     1.0     20101.0    0.0       NaN  0.291589  0.291589   \n",
       "1     3.0      1.0     1.0     30101.0    0.0       NaN  0.419753  0.419753   \n",
       "2     4.0      1.0     1.0     40101.0    0.0       NaN  0.265263  0.265980   \n",
       "3     6.0      1.0     1.0     60101.0    0.0       NaN  0.494906  0.495941   \n",
       "4     6.0      1.0     1.0     60101.0    0.0       NaN  1.017935  1.017935   \n",
       "\n",
       "       p14_wgc      p14_wgl  ...  wc14_64  wc14_65  wc14_5aq4  wc14_5aq5  \\\n",
       "0  1307.764781  1307.764781  ...      NaN                 NaN        NaN   \n",
       "1  1882.570960  1882.570960  ...      NaN                 NaN        NaN   \n",
       "2  1189.691668  1192.908537  ...      NaN                 NaN        NaN   \n",
       "3  2219.630833  2224.273816  ...      1.0        .        2.0        4.0   \n",
       "4  4565.389177  4565.389177  ...      1.0        .        1.0        5.0   \n",
       "\n",
       "   wc14_5aq6  h14_pers_income1  h14_pers_income2  h14_pers_income3  \\\n",
       "0        NaN               NaN               NaN               NaN   \n",
       "1        NaN               NaN               NaN               NaN   \n",
       "2        NaN               NaN            1284.0               NaN   \n",
       "3        4.0            2304.0               NaN            1800.0   \n",
       "4        2.0               NaN               NaN               NaN   \n",
       "\n",
       "   h14_pers_income4  h14_pers_income5  \n",
       "0               0.0               NaN  \n",
       "1               0.0               NaN  \n",
       "2               0.0               NaN  \n",
       "3               0.0               NaN  \n",
       "4               0.0               NaN  \n",
       "\n",
       "[5 rows x 830 columns]"
      ]
     },
     "execution_count": 14,
     "metadata": {},
     "output_type": "execute_result"
    }
   ],
   "source": [
    "welfare.head()"
   ]
  },
  {
   "cell_type": "code",
   "execution_count": 15,
   "id": "623f78c6",
   "metadata": {
    "tags": []
   },
   "outputs": [
    {
     "data": {
      "text/html": [
       "<div>\n",
       "<style scoped>\n",
       "    .dataframe tbody tr th:only-of-type {\n",
       "        vertical-align: middle;\n",
       "    }\n",
       "\n",
       "    .dataframe tbody tr th {\n",
       "        vertical-align: top;\n",
       "    }\n",
       "\n",
       "    .dataframe thead th {\n",
       "        text-align: right;\n",
       "    }\n",
       "</style>\n",
       "<table border=\"1\" class=\"dataframe\">\n",
       "  <thead>\n",
       "    <tr style=\"text-align: right;\">\n",
       "      <th></th>\n",
       "      <th>h14_id</th>\n",
       "      <th>h14_ind</th>\n",
       "      <th>h14_sn</th>\n",
       "      <th>h14_merkey</th>\n",
       "      <th>h_new</th>\n",
       "      <th>h14_cobf</th>\n",
       "      <th>p14_wsc</th>\n",
       "      <th>p14_wsl</th>\n",
       "      <th>p14_wgc</th>\n",
       "      <th>p14_wgl</th>\n",
       "      <th>...</th>\n",
       "      <th>wc14_64</th>\n",
       "      <th>wc14_65</th>\n",
       "      <th>wc14_5aq4</th>\n",
       "      <th>wc14_5aq5</th>\n",
       "      <th>wc14_5aq6</th>\n",
       "      <th>h14_pers_income1</th>\n",
       "      <th>h14_pers_income2</th>\n",
       "      <th>h14_pers_income3</th>\n",
       "      <th>h14_pers_income4</th>\n",
       "      <th>h14_pers_income5</th>\n",
       "    </tr>\n",
       "  </thead>\n",
       "  <tbody>\n",
       "    <tr>\n",
       "      <th>14413</th>\n",
       "      <td>9800.0</td>\n",
       "      <td>7.0</td>\n",
       "      <td>1.0</td>\n",
       "      <td>98000701.0</td>\n",
       "      <td>1.0</td>\n",
       "      <td>NaN</td>\n",
       "      <td>NaN</td>\n",
       "      <td>NaN</td>\n",
       "      <td>NaN</td>\n",
       "      <td>NaN</td>\n",
       "      <td>...</td>\n",
       "      <td>NaN</td>\n",
       "      <td></td>\n",
       "      <td>NaN</td>\n",
       "      <td>NaN</td>\n",
       "      <td>NaN</td>\n",
       "      <td>NaN</td>\n",
       "      <td>NaN</td>\n",
       "      <td>NaN</td>\n",
       "      <td>0.0</td>\n",
       "      <td>NaN</td>\n",
       "    </tr>\n",
       "    <tr>\n",
       "      <th>14414</th>\n",
       "      <td>9800.0</td>\n",
       "      <td>7.0</td>\n",
       "      <td>1.0</td>\n",
       "      <td>98000701.0</td>\n",
       "      <td>1.0</td>\n",
       "      <td>NaN</td>\n",
       "      <td>NaN</td>\n",
       "      <td>NaN</td>\n",
       "      <td>NaN</td>\n",
       "      <td>NaN</td>\n",
       "      <td>...</td>\n",
       "      <td>NaN</td>\n",
       "      <td></td>\n",
       "      <td>NaN</td>\n",
       "      <td>NaN</td>\n",
       "      <td>NaN</td>\n",
       "      <td>NaN</td>\n",
       "      <td>NaN</td>\n",
       "      <td>NaN</td>\n",
       "      <td>0.0</td>\n",
       "      <td>NaN</td>\n",
       "    </tr>\n",
       "    <tr>\n",
       "      <th>14415</th>\n",
       "      <td>9800.0</td>\n",
       "      <td>7.0</td>\n",
       "      <td>1.0</td>\n",
       "      <td>98000701.0</td>\n",
       "      <td>1.0</td>\n",
       "      <td>NaN</td>\n",
       "      <td>NaN</td>\n",
       "      <td>NaN</td>\n",
       "      <td>NaN</td>\n",
       "      <td>NaN</td>\n",
       "      <td>...</td>\n",
       "      <td>NaN</td>\n",
       "      <td></td>\n",
       "      <td>NaN</td>\n",
       "      <td>NaN</td>\n",
       "      <td>NaN</td>\n",
       "      <td>NaN</td>\n",
       "      <td>208.0</td>\n",
       "      <td>NaN</td>\n",
       "      <td>0.0</td>\n",
       "      <td>NaN</td>\n",
       "    </tr>\n",
       "    <tr>\n",
       "      <th>14416</th>\n",
       "      <td>9800.0</td>\n",
       "      <td>7.0</td>\n",
       "      <td>1.0</td>\n",
       "      <td>98000701.0</td>\n",
       "      <td>1.0</td>\n",
       "      <td>NaN</td>\n",
       "      <td>NaN</td>\n",
       "      <td>NaN</td>\n",
       "      <td>NaN</td>\n",
       "      <td>NaN</td>\n",
       "      <td>...</td>\n",
       "      <td>5.0</td>\n",
       "      <td>.</td>\n",
       "      <td>4.0</td>\n",
       "      <td>3.0</td>\n",
       "      <td>3.0</td>\n",
       "      <td>NaN</td>\n",
       "      <td>1200.0</td>\n",
       "      <td>NaN</td>\n",
       "      <td>0.0</td>\n",
       "      <td>NaN</td>\n",
       "    </tr>\n",
       "    <tr>\n",
       "      <th>14417</th>\n",
       "      <td>9800.0</td>\n",
       "      <td>7.0</td>\n",
       "      <td>1.0</td>\n",
       "      <td>98000701.0</td>\n",
       "      <td>1.0</td>\n",
       "      <td>NaN</td>\n",
       "      <td>NaN</td>\n",
       "      <td>NaN</td>\n",
       "      <td>NaN</td>\n",
       "      <td>NaN</td>\n",
       "      <td>...</td>\n",
       "      <td>NaN</td>\n",
       "      <td></td>\n",
       "      <td>NaN</td>\n",
       "      <td>NaN</td>\n",
       "      <td>NaN</td>\n",
       "      <td>NaN</td>\n",
       "      <td>NaN</td>\n",
       "      <td>NaN</td>\n",
       "      <td>0.0</td>\n",
       "      <td>NaN</td>\n",
       "    </tr>\n",
       "  </tbody>\n",
       "</table>\n",
       "<p>5 rows × 830 columns</p>\n",
       "</div>"
      ],
      "text/plain": [
       "       h14_id  h14_ind  h14_sn  h14_merkey  h_new  h14_cobf  p14_wsc  p14_wsl  \\\n",
       "14413  9800.0      7.0     1.0  98000701.0    1.0       NaN      NaN      NaN   \n",
       "14414  9800.0      7.0     1.0  98000701.0    1.0       NaN      NaN      NaN   \n",
       "14415  9800.0      7.0     1.0  98000701.0    1.0       NaN      NaN      NaN   \n",
       "14416  9800.0      7.0     1.0  98000701.0    1.0       NaN      NaN      NaN   \n",
       "14417  9800.0      7.0     1.0  98000701.0    1.0       NaN      NaN      NaN   \n",
       "\n",
       "       p14_wgc  p14_wgl  ...  wc14_64  wc14_65  wc14_5aq4  wc14_5aq5  \\\n",
       "14413      NaN      NaN  ...      NaN                 NaN        NaN   \n",
       "14414      NaN      NaN  ...      NaN                 NaN        NaN   \n",
       "14415      NaN      NaN  ...      NaN                 NaN        NaN   \n",
       "14416      NaN      NaN  ...      5.0        .        4.0        3.0   \n",
       "14417      NaN      NaN  ...      NaN                 NaN        NaN   \n",
       "\n",
       "       wc14_5aq6  h14_pers_income1  h14_pers_income2  h14_pers_income3  \\\n",
       "14413        NaN               NaN               NaN               NaN   \n",
       "14414        NaN               NaN               NaN               NaN   \n",
       "14415        NaN               NaN             208.0               NaN   \n",
       "14416        3.0               NaN            1200.0               NaN   \n",
       "14417        NaN               NaN               NaN               NaN   \n",
       "\n",
       "       h14_pers_income4  h14_pers_income5  \n",
       "14413               0.0               NaN  \n",
       "14414               0.0               NaN  \n",
       "14415               0.0               NaN  \n",
       "14416               0.0               NaN  \n",
       "14417               0.0               NaN  \n",
       "\n",
       "[5 rows x 830 columns]"
      ]
     },
     "execution_count": 15,
     "metadata": {},
     "output_type": "execute_result"
    }
   ],
   "source": [
    "welfare.tail()"
   ]
  },
  {
   "cell_type": "code",
   "execution_count": 16,
   "id": "95ae17fe",
   "metadata": {
    "tags": []
   },
   "outputs": [
    {
     "data": {
      "text/plain": [
       "(14418, 830)"
      ]
     },
     "execution_count": 16,
     "metadata": {},
     "output_type": "execute_result"
    }
   ],
   "source": [
    "# 행과 열 개수 출력\n",
    "welfare.shape"
   ]
  },
  {
   "cell_type": "code",
   "execution_count": 17,
   "id": "678e560d",
   "metadata": {
    "tags": []
   },
   "outputs": [
    {
     "name": "stdout",
     "output_type": "stream",
     "text": [
      "<class 'pandas.core.frame.DataFrame'>\n",
      "RangeIndex: 14418 entries, 0 to 14417\n",
      "Columns: 830 entries, h14_id to h14_pers_income5\n",
      "dtypes: float64(826), object(4)\n",
      "memory usage: 91.3+ MB\n"
     ]
    }
   ],
   "source": [
    "# 변수 속성 출력\n",
    "welfare.info()"
   ]
  },
  {
   "cell_type": "code",
   "execution_count": 18,
   "id": "a7432691",
   "metadata": {
    "tags": []
   },
   "outputs": [
    {
     "data": {
      "text/html": [
       "<div>\n",
       "<style scoped>\n",
       "    .dataframe tbody tr th:only-of-type {\n",
       "        vertical-align: middle;\n",
       "    }\n",
       "\n",
       "    .dataframe tbody tr th {\n",
       "        vertical-align: top;\n",
       "    }\n",
       "\n",
       "    .dataframe thead th {\n",
       "        text-align: right;\n",
       "    }\n",
       "</style>\n",
       "<table border=\"1\" class=\"dataframe\">\n",
       "  <thead>\n",
       "    <tr style=\"text-align: right;\">\n",
       "      <th></th>\n",
       "      <th>h14_id</th>\n",
       "      <th>h14_ind</th>\n",
       "      <th>h14_sn</th>\n",
       "      <th>h14_merkey</th>\n",
       "      <th>h_new</th>\n",
       "      <th>h14_cobf</th>\n",
       "      <th>p14_wsc</th>\n",
       "      <th>p14_wsl</th>\n",
       "      <th>p14_wgc</th>\n",
       "      <th>p14_wgl</th>\n",
       "      <th>...</th>\n",
       "      <th>wc14_63</th>\n",
       "      <th>wc14_64</th>\n",
       "      <th>wc14_5aq4</th>\n",
       "      <th>wc14_5aq5</th>\n",
       "      <th>wc14_5aq6</th>\n",
       "      <th>h14_pers_income1</th>\n",
       "      <th>h14_pers_income2</th>\n",
       "      <th>h14_pers_income3</th>\n",
       "      <th>h14_pers_income4</th>\n",
       "      <th>h14_pers_income5</th>\n",
       "    </tr>\n",
       "  </thead>\n",
       "  <tbody>\n",
       "    <tr>\n",
       "      <th>count</th>\n",
       "      <td>14418.000000</td>\n",
       "      <td>14418.000000</td>\n",
       "      <td>14418.000000</td>\n",
       "      <td>1.441800e+04</td>\n",
       "      <td>14418.000000</td>\n",
       "      <td>121.000000</td>\n",
       "      <td>11513.000000</td>\n",
       "      <td>11513.000000</td>\n",
       "      <td>11513.000000</td>\n",
       "      <td>11513.000000</td>\n",
       "      <td>...</td>\n",
       "      <td>2027.000000</td>\n",
       "      <td>2027.000000</td>\n",
       "      <td>2027.000000</td>\n",
       "      <td>2027.000000</td>\n",
       "      <td>2027.000000</td>\n",
       "      <td>2659.000000</td>\n",
       "      <td>3331.000000</td>\n",
       "      <td>989.000000</td>\n",
       "      <td>14418.000000</td>\n",
       "      <td>715.000000</td>\n",
       "    </tr>\n",
       "    <tr>\n",
       "      <th>mean</th>\n",
       "      <td>4672.108406</td>\n",
       "      <td>3.121723</td>\n",
       "      <td>1.004855</td>\n",
       "      <td>4.672140e+07</td>\n",
       "      <td>0.201484</td>\n",
       "      <td>2.256198</td>\n",
       "      <td>1.000000</td>\n",
       "      <td>1.000000</td>\n",
       "      <td>4484.952219</td>\n",
       "      <td>4484.952541</td>\n",
       "      <td>...</td>\n",
       "      <td>3.211643</td>\n",
       "      <td>3.743957</td>\n",
       "      <td>3.513567</td>\n",
       "      <td>4.100641</td>\n",
       "      <td>3.233350</td>\n",
       "      <td>4141.380594</td>\n",
       "      <td>1389.440408</td>\n",
       "      <td>3457.835187</td>\n",
       "      <td>2.038702</td>\n",
       "      <td>1183.292308</td>\n",
       "    </tr>\n",
       "    <tr>\n",
       "      <th>std</th>\n",
       "      <td>2792.998128</td>\n",
       "      <td>3.297963</td>\n",
       "      <td>0.143205</td>\n",
       "      <td>2.793014e+07</td>\n",
       "      <td>0.401123</td>\n",
       "      <td>1.675952</td>\n",
       "      <td>0.906021</td>\n",
       "      <td>1.016782</td>\n",
       "      <td>4063.459773</td>\n",
       "      <td>4560.218659</td>\n",
       "      <td>...</td>\n",
       "      <td>2.174768</td>\n",
       "      <td>3.138629</td>\n",
       "      <td>1.045929</td>\n",
       "      <td>0.937712</td>\n",
       "      <td>1.289456</td>\n",
       "      <td>2583.755449</td>\n",
       "      <td>1211.910836</td>\n",
       "      <td>6619.516319</td>\n",
       "      <td>32.965477</td>\n",
       "      <td>2147.418274</td>\n",
       "    </tr>\n",
       "    <tr>\n",
       "      <th>min</th>\n",
       "      <td>2.000000</td>\n",
       "      <td>1.000000</td>\n",
       "      <td>1.000000</td>\n",
       "      <td>2.010100e+04</td>\n",
       "      <td>0.000000</td>\n",
       "      <td>1.000000</td>\n",
       "      <td>0.001998</td>\n",
       "      <td>0.000000</td>\n",
       "      <td>8.960093</td>\n",
       "      <td>0.000000</td>\n",
       "      <td>...</td>\n",
       "      <td>1.000000</td>\n",
       "      <td>1.000000</td>\n",
       "      <td>1.000000</td>\n",
       "      <td>1.000000</td>\n",
       "      <td>1.000000</td>\n",
       "      <td>0.000000</td>\n",
       "      <td>0.000000</td>\n",
       "      <td>-47000.000000</td>\n",
       "      <td>0.000000</td>\n",
       "      <td>-10600.000000</td>\n",
       "    </tr>\n",
       "    <tr>\n",
       "      <th>25%</th>\n",
       "      <td>2356.000000</td>\n",
       "      <td>1.000000</td>\n",
       "      <td>1.000000</td>\n",
       "      <td>2.356030e+07</td>\n",
       "      <td>0.000000</td>\n",
       "      <td>1.000000</td>\n",
       "      <td>0.341814</td>\n",
       "      <td>0.269286</td>\n",
       "      <td>1533.021553</td>\n",
       "      <td>1207.736094</td>\n",
       "      <td>...</td>\n",
       "      <td>1.000000</td>\n",
       "      <td>2.000000</td>\n",
       "      <td>3.000000</td>\n",
       "      <td>4.000000</td>\n",
       "      <td>2.000000</td>\n",
       "      <td>2448.000000</td>\n",
       "      <td>391.500000</td>\n",
       "      <td>1000.000000</td>\n",
       "      <td>0.000000</td>\n",
       "      <td>206.000000</td>\n",
       "    </tr>\n",
       "    <tr>\n",
       "      <th>50%</th>\n",
       "      <td>4535.000000</td>\n",
       "      <td>1.000000</td>\n",
       "      <td>1.000000</td>\n",
       "      <td>4.535010e+07</td>\n",
       "      <td>0.000000</td>\n",
       "      <td>2.000000</td>\n",
       "      <td>0.726304</td>\n",
       "      <td>0.704045</td>\n",
       "      <td>3257.436901</td>\n",
       "      <td>3157.609630</td>\n",
       "      <td>...</td>\n",
       "      <td>3.000000</td>\n",
       "      <td>3.000000</td>\n",
       "      <td>4.000000</td>\n",
       "      <td>4.000000</td>\n",
       "      <td>3.000000</td>\n",
       "      <td>3540.000000</td>\n",
       "      <td>1116.000000</td>\n",
       "      <td>2498.000000</td>\n",
       "      <td>0.000000</td>\n",
       "      <td>530.000000</td>\n",
       "    </tr>\n",
       "    <tr>\n",
       "      <th>75%</th>\n",
       "      <td>6616.000000</td>\n",
       "      <td>7.000000</td>\n",
       "      <td>1.000000</td>\n",
       "      <td>6.616010e+07</td>\n",
       "      <td>0.000000</td>\n",
       "      <td>2.000000</td>\n",
       "      <td>1.366071</td>\n",
       "      <td>1.390045</td>\n",
       "      <td>6126.762919</td>\n",
       "      <td>6234.287538</td>\n",
       "      <td>...</td>\n",
       "      <td>5.000000</td>\n",
       "      <td>5.000000</td>\n",
       "      <td>4.000000</td>\n",
       "      <td>5.000000</td>\n",
       "      <td>4.000000</td>\n",
       "      <td>5378.500000</td>\n",
       "      <td>2040.000000</td>\n",
       "      <td>4687.000000</td>\n",
       "      <td>0.000000</td>\n",
       "      <td>1295.000000</td>\n",
       "    </tr>\n",
       "    <tr>\n",
       "      <th>max</th>\n",
       "      <td>9800.000000</td>\n",
       "      <td>14.000000</td>\n",
       "      <td>9.000000</td>\n",
       "      <td>9.800070e+07</td>\n",
       "      <td>1.000000</td>\n",
       "      <td>7.000000</td>\n",
       "      <td>4.727006</td>\n",
       "      <td>5.790039</td>\n",
       "      <td>21200.393903</td>\n",
       "      <td>25968.049029</td>\n",
       "      <td>...</td>\n",
       "      <td>9.000000</td>\n",
       "      <td>99.000000</td>\n",
       "      <td>9.000000</td>\n",
       "      <td>9.000000</td>\n",
       "      <td>9.000000</td>\n",
       "      <td>22700.000000</td>\n",
       "      <td>11500.000000</td>\n",
       "      <td>170000.000000</td>\n",
       "      <td>3000.000000</td>\n",
       "      <td>22644.000000</td>\n",
       "    </tr>\n",
       "  </tbody>\n",
       "</table>\n",
       "<p>8 rows × 826 columns</p>\n",
       "</div>"
      ],
      "text/plain": [
       "             h14_id       h14_ind        h14_sn    h14_merkey         h_new  \\\n",
       "count  14418.000000  14418.000000  14418.000000  1.441800e+04  14418.000000   \n",
       "mean    4672.108406      3.121723      1.004855  4.672140e+07      0.201484   \n",
       "std     2792.998128      3.297963      0.143205  2.793014e+07      0.401123   \n",
       "min        2.000000      1.000000      1.000000  2.010100e+04      0.000000   \n",
       "25%     2356.000000      1.000000      1.000000  2.356030e+07      0.000000   \n",
       "50%     4535.000000      1.000000      1.000000  4.535010e+07      0.000000   \n",
       "75%     6616.000000      7.000000      1.000000  6.616010e+07      0.000000   \n",
       "max     9800.000000     14.000000      9.000000  9.800070e+07      1.000000   \n",
       "\n",
       "         h14_cobf       p14_wsc       p14_wsl       p14_wgc       p14_wgl  \\\n",
       "count  121.000000  11513.000000  11513.000000  11513.000000  11513.000000   \n",
       "mean     2.256198      1.000000      1.000000   4484.952219   4484.952541   \n",
       "std      1.675952      0.906021      1.016782   4063.459773   4560.218659   \n",
       "min      1.000000      0.001998      0.000000      8.960093      0.000000   \n",
       "25%      1.000000      0.341814      0.269286   1533.021553   1207.736094   \n",
       "50%      2.000000      0.726304      0.704045   3257.436901   3157.609630   \n",
       "75%      2.000000      1.366071      1.390045   6126.762919   6234.287538   \n",
       "max      7.000000      4.727006      5.790039  21200.393903  25968.049029   \n",
       "\n",
       "       ...      wc14_63      wc14_64    wc14_5aq4    wc14_5aq5    wc14_5aq6  \\\n",
       "count  ...  2027.000000  2027.000000  2027.000000  2027.000000  2027.000000   \n",
       "mean   ...     3.211643     3.743957     3.513567     4.100641     3.233350   \n",
       "std    ...     2.174768     3.138629     1.045929     0.937712     1.289456   \n",
       "min    ...     1.000000     1.000000     1.000000     1.000000     1.000000   \n",
       "25%    ...     1.000000     2.000000     3.000000     4.000000     2.000000   \n",
       "50%    ...     3.000000     3.000000     4.000000     4.000000     3.000000   \n",
       "75%    ...     5.000000     5.000000     4.000000     5.000000     4.000000   \n",
       "max    ...     9.000000    99.000000     9.000000     9.000000     9.000000   \n",
       "\n",
       "       h14_pers_income1  h14_pers_income2  h14_pers_income3  h14_pers_income4  \\\n",
       "count       2659.000000       3331.000000        989.000000      14418.000000   \n",
       "mean        4141.380594       1389.440408       3457.835187          2.038702   \n",
       "std         2583.755449       1211.910836       6619.516319         32.965477   \n",
       "min            0.000000          0.000000     -47000.000000          0.000000   \n",
       "25%         2448.000000        391.500000       1000.000000          0.000000   \n",
       "50%         3540.000000       1116.000000       2498.000000          0.000000   \n",
       "75%         5378.500000       2040.000000       4687.000000          0.000000   \n",
       "max        22700.000000      11500.000000     170000.000000       3000.000000   \n",
       "\n",
       "       h14_pers_income5  \n",
       "count        715.000000  \n",
       "mean        1183.292308  \n",
       "std         2147.418274  \n",
       "min       -10600.000000  \n",
       "25%          206.000000  \n",
       "50%          530.000000  \n",
       "75%         1295.000000  \n",
       "max        22644.000000  \n",
       "\n",
       "[8 rows x 826 columns]"
      ]
     },
     "execution_count": 18,
     "metadata": {},
     "output_type": "execute_result"
    }
   ],
   "source": [
    "# 요약 통계량\n",
    "welfare.describe()"
   ]
  },
  {
   "cell_type": "markdown",
   "id": "ef52c630",
   "metadata": {},
   "source": [
    "5. 변수명 바꾸기\n",
    "- 복지데이터와 같은 대규모 데이토는 변수의 수가 많고 변수명이 코드로 되어 있음\n",
    "- 규모가 큰 조사 자료의 경우 데이터 특징을 설명한 코드북(codebook)을 함께 제공\n",
    "- 코드북에는 변수명과 값의 의미가 설명되어 있음\n",
    "- 복지 데이터 코드북 일부: Koweps_Codebook_2019.xlsl\n",
    "- 7개 변수를 선정하여 분석함\n",
    "   - (1단계) 변수검토 및 전처리\n",
    "   - (2단계) 변수 간 관계 분석"
   ]
  },
  {
   "cell_type": "code",
   "execution_count": 20,
   "id": "a0b1f7c5",
   "metadata": {
    "tags": []
   },
   "outputs": [],
   "source": [
    "welfare = welfare.rename(\n",
    "   columns = {'h14_g3'     : 'sex',             # 성별\n",
    "              'h14_g4'     : 'birth',           # 생년\n",
    "              'h14_g10'    : 'marriage_type',   # 결혼 유무\n",
    "              'h14_g11'    : 'religion',        # 종교\n",
    "              'p1402_8aq1' : 'income',          # 수입(연봉)\n",
    "              'h14_eco9'   : 'code_job',        # 직업 분류\n",
    "              'h14_reg7'   : 'code_region'      # 지역\n",
    "             })"
   ]
  },
  {
   "cell_type": "code",
   "execution_count": 21,
   "id": "35f12168",
   "metadata": {
    "tags": []
   },
   "outputs": [
    {
     "data": {
      "text/plain": [
       "dtype('float64')"
      ]
     },
     "execution_count": 21,
     "metadata": {},
     "output_type": "execute_result"
    }
   ],
   "source": [
    "# 성별로 몇명이 있는지 확인\n",
    "# 성별 변수의 데이터 타입 확인\n",
    "welfare['sex'].dtypes"
   ]
  },
  {
   "cell_type": "code",
   "execution_count": 22,
   "id": "750ab7b9",
   "metadata": {
    "tags": []
   },
   "outputs": [
    {
     "data": {
      "text/plain": [
       "sex\n",
       "2.0    7913\n",
       "1.0    6505\n",
       "Name: count, dtype: int64"
      ]
     },
     "execution_count": 22,
     "metadata": {},
     "output_type": "execute_result"
    }
   ],
   "source": [
    "# 성별로 몇명이 있는지 확인\n",
    "# 성별 분류별 빈도 수 구하기 (성별은 1, 2로 구성)\n",
    "welfare['sex'].value_counts()"
   ]
  },
  {
   "cell_type": "markdown",
   "id": "50e3bba7",
   "metadata": {},
   "source": [
    "- 성별 값에 대한 코드북 확인\n",
    "- 여자 7913명, 남자 6505명\n",
    "- 모름/무응답(9) 값은 없는 것으로 확인됨\n",
    "|   값     |   내용      |\n",
    "| ---      | ----        |\n",
    "| 1        | 남자        |\n",
    "| 2        | 여자        |\n",
    "| 9        | 모름/무응답 |"
   ]
  },
  {
   "cell_type": "code",
   "execution_count": 24,
   "id": "af781365",
   "metadata": {
    "tags": []
   },
   "outputs": [],
   "source": [
    "# 성별 항목 이름 부여\n",
    "welfare['sex'] = np.where(welfare['sex'] == 1, 'male', 'female')"
   ]
  },
  {
   "cell_type": "markdown",
   "id": "351a7865",
   "metadata": {},
   "source": [
    "- 연령대별 기준을 정하여 파생변수 생성\n",
    "|    범주     |     기준     |\n",
    "| ---         | -----        |\n",
    "|초년층       | 30세 미만    |\n",
    "|중년층       | 30세 ~ 59세  |\n",
    "|노년층       | 60세 이상    |"
   ]
  },
  {
   "cell_type": "code",
   "execution_count": 26,
   "id": "34b83da7",
   "metadata": {
    "tags": []
   },
   "outputs": [],
   "source": [
    "# 파생 변수 나이(age) 추가하기\n",
    "welfare = welfare.assign(age = 2019 - welfare['birth'] + 1)"
   ]
  },
  {
   "cell_type": "code",
   "execution_count": 27,
   "id": "aee0694d",
   "metadata": {
    "tags": []
   },
   "outputs": [
    {
     "data": {
      "text/plain": [
       "count    14418.000000\n",
       "mean        50.719795\n",
       "std         24.402250\n",
       "min          2.000000\n",
       "25%         30.000000\n",
       "50%         52.000000\n",
       "75%         72.000000\n",
       "max        113.000000\n",
       "Name: age, dtype: float64"
      ]
     },
     "execution_count": 27,
     "metadata": {},
     "output_type": "execute_result"
    }
   ],
   "source": [
    "# 파생변수 age의 요약 통계량 구하기\n",
    "welfare['age'].describe()"
   ]
  },
  {
   "cell_type": "code",
   "execution_count": 28,
   "id": "4df1c0a4",
   "metadata": {
    "tags": []
   },
   "outputs": [
    {
     "data": {
      "text/plain": [
       "0    75.0\n",
       "1    72.0\n",
       "2    78.0\n",
       "3    58.0\n",
       "4    57.0\n",
       "Name: age, dtype: float64"
      ]
     },
     "execution_count": 28,
     "metadata": {},
     "output_type": "execute_result"
    }
   ],
   "source": [
    "# 나이 변수 살펴 보기\n",
    "welfare['age'].head()"
   ]
  },
  {
   "cell_type": "code",
   "execution_count": 29,
   "id": "8d9a5f5e",
   "metadata": {
    "tags": []
   },
   "outputs": [],
   "source": [
    "# 연령대 변수 만들기\n",
    "welfare = welfare.assign(ageg = np.where(welfare['age'] < 30, 'young',\n",
    "                                np.where(welfare['age'] <=59, 'middle',\n",
    "                                                               'old' )))"
   ]
  },
  {
   "cell_type": "code",
   "execution_count": 30,
   "id": "7e427737",
   "metadata": {
    "tags": []
   },
   "outputs": [
    {
     "data": {
      "text/plain": [
       "ageg\n",
       "old       5955\n",
       "middle    4963\n",
       "young     3500\n",
       "Name: count, dtype: int64"
      ]
     },
     "execution_count": 30,
     "metadata": {},
     "output_type": "execute_result"
    }
   ],
   "source": [
    "# 연령대별 빈도 구하기\n",
    "welfare['ageg'].value_counts()"
   ]
  },
  {
   "cell_type": "markdown",
   "id": "de9e204b",
   "metadata": {},
   "source": [
    "# 9-6 직업별 월급 차이 - 어떤 직업이 월급을 가장 많이 받을까?\n",
    "> ## Lab 2 : 직업 변수 검토 및 전처리하기\n",
    "> ## Lab 3 : 직업별 월급 차이 분석하기\n",
    "## Lab 2 : 직업 변수 검토 및 전처리하기\n",
    "1. 변수 검토하기"
   ]
  },
  {
   "cell_type": "code",
   "execution_count": 32,
   "id": "b5f2a1e8",
   "metadata": {},
   "outputs": [
    {
     "data": {
      "text/plain": [
       "dtype('float64')"
      ]
     },
     "execution_count": 32,
     "metadata": {},
     "output_type": "execute_result"
    }
   ],
   "source": [
    "# 직업 변수 타입 살펴보기\n",
    "welfare['code_job'].dtypes"
   ]
  },
  {
   "cell_type": "code",
   "execution_count": 33,
   "id": "0e10bc06",
   "metadata": {},
   "outputs": [
    {
     "data": {
      "text/plain": [
       "code_job\n",
       "611.0    962\n",
       "941.0    391\n",
       "521.0    354\n",
       "312.0    275\n",
       "873.0    236\n",
       "        ... \n",
       "112.0      2\n",
       "784.0      2\n",
       "423.0      1\n",
       "861.0      1\n",
       "872.0      1\n",
       "Name: count, Length: 150, dtype: int64"
      ]
     },
     "execution_count": 33,
     "metadata": {},
     "output_type": "execute_result"
    }
   ],
   "source": [
    "# 직업 코드별 빈도수 구하기\n",
    "welfare['code_job'].value_counts()"
   ]
  },
  {
   "cell_type": "code",
   "execution_count": 34,
   "id": "e9f39ffe",
   "metadata": {},
   "outputs": [
    {
     "data": {
      "text/plain": [
       "0      NaN\n",
       "1      NaN\n",
       "2    762.0\n",
       "3    855.0\n",
       "4      NaN\n",
       "5      NaN\n",
       "6      NaN\n",
       "7    941.0\n",
       "8    999.0\n",
       "9      NaN\n",
       "Name: code_job, dtype: float64"
      ]
     },
     "execution_count": 34,
     "metadata": {},
     "output_type": "execute_result"
    }
   ],
   "source": [
    "welfare['code_job'].head(10)"
   ]
  },
  {
   "cell_type": "markdown",
   "id": "b2701388",
   "metadata": {},
   "source": [
    "> code_job은 직업 분류 코드를 의미한다.\n",
    "- 한국복지패널 사이트에서 제공하는 코드북의 직업분류코드목록(한국표준직업분류 제7차 개정)을 보면 직업 의미를 알 수 있음"
   ]
  },
  {
   "cell_type": "markdown",
   "id": "178fb307",
   "metadata": {},
   "source": [
    "2. 전처리 하기\n",
    "- Koweps_Codebook_2019.xlsx 파일의 직종 코드 시트에 직업분류코드 목록을 불러옴\n",
    "- 코드값과 직업명으로 구성되고 156개 직업으로 분류됨"
   ]
  },
  {
   "cell_type": "code",
   "execution_count": 37,
   "id": "c1d59706",
   "metadata": {},
   "outputs": [],
   "source": [
    "#직업명 불러오기\n",
    "list_job = pd.read_excel('Koweps_Codebook_2019.xlsx', sheet_name='직종코드')"
   ]
  },
  {
   "cell_type": "code",
   "execution_count": 38,
   "id": "c3abc406",
   "metadata": {},
   "outputs": [
    {
     "data": {
      "text/html": [
       "<div>\n",
       "<style scoped>\n",
       "    .dataframe tbody tr th:only-of-type {\n",
       "        vertical-align: middle;\n",
       "    }\n",
       "\n",
       "    .dataframe tbody tr th {\n",
       "        vertical-align: top;\n",
       "    }\n",
       "\n",
       "    .dataframe thead th {\n",
       "        text-align: right;\n",
       "    }\n",
       "</style>\n",
       "<table border=\"1\" class=\"dataframe\">\n",
       "  <thead>\n",
       "    <tr style=\"text-align: right;\">\n",
       "      <th></th>\n",
       "      <th>code_job</th>\n",
       "      <th>job</th>\n",
       "    </tr>\n",
       "  </thead>\n",
       "  <tbody>\n",
       "    <tr>\n",
       "      <th>0</th>\n",
       "      <td>111</td>\n",
       "      <td>의회 의원∙고위 공무원 및 공공단체 임원</td>\n",
       "    </tr>\n",
       "    <tr>\n",
       "      <th>1</th>\n",
       "      <td>112</td>\n",
       "      <td>기업 고위 임원</td>\n",
       "    </tr>\n",
       "    <tr>\n",
       "      <th>2</th>\n",
       "      <td>121</td>\n",
       "      <td>행정 및 경영 지원 관리자</td>\n",
       "    </tr>\n",
       "    <tr>\n",
       "      <th>3</th>\n",
       "      <td>122</td>\n",
       "      <td>마케팅 및 광고∙홍보 관리자</td>\n",
       "    </tr>\n",
       "    <tr>\n",
       "      <th>4</th>\n",
       "      <td>131</td>\n",
       "      <td>연구∙교육 및 법률 관련 관리자</td>\n",
       "    </tr>\n",
       "  </tbody>\n",
       "</table>\n",
       "</div>"
      ],
      "text/plain": [
       "   code_job                     job\n",
       "0       111  의회 의원∙고위 공무원 및 공공단체 임원\n",
       "1       112                기업 고위 임원\n",
       "2       121          행정 및 경영 지원 관리자\n",
       "3       122         마케팅 및 광고∙홍보 관리자\n",
       "4       131       연구∙교육 및 법률 관련 관리자"
      ]
     },
     "execution_count": 38,
     "metadata": {},
     "output_type": "execute_result"
    }
   ],
   "source": [
    "# 직업 코드별 직업명 알아보기\n",
    "list_job.head()"
   ]
  },
  {
   "cell_type": "code",
   "execution_count": 39,
   "id": "ab63070e",
   "metadata": {},
   "outputs": [
    {
     "data": {
      "text/plain": [
       "(156, 2)"
      ]
     },
     "execution_count": 39,
     "metadata": {},
     "output_type": "execute_result"
    }
   ],
   "source": [
    "# 직업 코드별 직업명 데이터프레임 구조 (156개 행, 2개 열)\n",
    "list_job.shape"
   ]
  },
  {
   "cell_type": "code",
   "execution_count": 40,
   "id": "5341e877",
   "metadata": {},
   "outputs": [],
   "source": [
    "# welfare와 list_job 결합(직업코드에 해당하는 직업명 넣기)\n",
    "welfare = welfare.merge(list_job, how='left', on='code_job')\n",
    "\n",
    "#welfare = pd.merge(welfare, list_job, how='left', on = 'code_job')"
   ]
  },
  {
   "cell_type": "code",
   "execution_count": 41,
   "id": "72a5ed19",
   "metadata": {},
   "outputs": [
    {
     "data": {
      "text/html": [
       "<div>\n",
       "<style scoped>\n",
       "    .dataframe tbody tr th:only-of-type {\n",
       "        vertical-align: middle;\n",
       "    }\n",
       "\n",
       "    .dataframe tbody tr th {\n",
       "        vertical-align: top;\n",
       "    }\n",
       "\n",
       "    .dataframe thead th {\n",
       "        text-align: right;\n",
       "    }\n",
       "</style>\n",
       "<table border=\"1\" class=\"dataframe\">\n",
       "  <thead>\n",
       "    <tr style=\"text-align: right;\">\n",
       "      <th></th>\n",
       "      <th>code_job</th>\n",
       "      <th>job</th>\n",
       "    </tr>\n",
       "  </thead>\n",
       "  <tbody>\n",
       "    <tr>\n",
       "      <th>0</th>\n",
       "      <td>NaN</td>\n",
       "      <td>NaN</td>\n",
       "    </tr>\n",
       "    <tr>\n",
       "      <th>1</th>\n",
       "      <td>NaN</td>\n",
       "      <td>NaN</td>\n",
       "    </tr>\n",
       "    <tr>\n",
       "      <th>2</th>\n",
       "      <td>762.0</td>\n",
       "      <td>전기공</td>\n",
       "    </tr>\n",
       "    <tr>\n",
       "      <th>3</th>\n",
       "      <td>855.0</td>\n",
       "      <td>금속기계 부품 조립원</td>\n",
       "    </tr>\n",
       "    <tr>\n",
       "      <th>4</th>\n",
       "      <td>NaN</td>\n",
       "      <td>NaN</td>\n",
       "    </tr>\n",
       "  </tbody>\n",
       "</table>\n",
       "</div>"
      ],
      "text/plain": [
       "   code_job          job\n",
       "0       NaN          NaN\n",
       "1       NaN          NaN\n",
       "2     762.0          전기공\n",
       "3     855.0  금속기계 부품 조립원\n",
       "4       NaN          NaN"
      ]
     },
     "execution_count": 41,
     "metadata": {},
     "output_type": "execute_result"
    }
   ],
   "source": [
    "# welfare에 직업코드와 직업명 출력\n",
    "welfare[['code_job', 'job']].head()"
   ]
  },
  {
   "cell_type": "code",
   "execution_count": 42,
   "id": "d7fbf96b",
   "metadata": {},
   "outputs": [
    {
     "data": {
      "text/html": [
       "<div>\n",
       "<style scoped>\n",
       "    .dataframe tbody tr th:only-of-type {\n",
       "        vertical-align: middle;\n",
       "    }\n",
       "\n",
       "    .dataframe tbody tr th {\n",
       "        vertical-align: top;\n",
       "    }\n",
       "\n",
       "    .dataframe thead th {\n",
       "        text-align: right;\n",
       "    }\n",
       "</style>\n",
       "<table border=\"1\" class=\"dataframe\">\n",
       "  <thead>\n",
       "    <tr style=\"text-align: right;\">\n",
       "      <th></th>\n",
       "      <th>code_job</th>\n",
       "      <th>job</th>\n",
       "    </tr>\n",
       "  </thead>\n",
       "  <tbody>\n",
       "    <tr>\n",
       "      <th>2</th>\n",
       "      <td>762.0</td>\n",
       "      <td>전기공</td>\n",
       "    </tr>\n",
       "    <tr>\n",
       "      <th>3</th>\n",
       "      <td>855.0</td>\n",
       "      <td>금속기계 부품 조립원</td>\n",
       "    </tr>\n",
       "    <tr>\n",
       "      <th>7</th>\n",
       "      <td>941.0</td>\n",
       "      <td>청소원 및 환경미화원</td>\n",
       "    </tr>\n",
       "    <tr>\n",
       "      <th>8</th>\n",
       "      <td>999.0</td>\n",
       "      <td>기타 서비스 관련 단순 종사자</td>\n",
       "    </tr>\n",
       "    <tr>\n",
       "      <th>14</th>\n",
       "      <td>312.0</td>\n",
       "      <td>경영 관련 사무원</td>\n",
       "    </tr>\n",
       "  </tbody>\n",
       "</table>\n",
       "</div>"
      ],
      "text/plain": [
       "    code_job               job\n",
       "2      762.0               전기공\n",
       "3      855.0       금속기계 부품 조립원\n",
       "7      941.0       청소원 및 환경미화원\n",
       "8      999.0  기타 서비스 관련 단순 종사자\n",
       "14     312.0         경영 관련 사무원"
      ]
     },
     "execution_count": 42,
     "metadata": {},
     "output_type": "execute_result"
    }
   ],
   "source": [
    "# welfare에 직업코드에서 결측치 제거\n",
    "welfare.dropna(subset=['code_job'])[['code_job', 'job']].head()"
   ]
  },
  {
   "cell_type": "markdown",
   "id": "2a0458d4",
   "metadata": {},
   "source": [
    "## Lab 3 : 직업별 월급 차이 분석하기\n"
   ]
  },
  {
   "cell_type": "markdown",
   "id": "eae6073d",
   "metadata": {},
   "source": [
    "1. 직업별 월급 평균표 만들기"
   ]
  },
  {
   "cell_type": "code",
   "execution_count": 45,
   "id": "b4eed74f",
   "metadata": {},
   "outputs": [],
   "source": [
    "# 직업별 월급 평균표 만들기\n",
    "job_income = welfare.dropna(subset=['job', 'income']) \\\n",
    "                    .groupby('job', as_index=False) \\\n",
    "                    .agg(mean_income = ('income', 'mean'),\n",
    "                            종사자수 = ('job', 'count'),\n",
    "                             최대월급 = ('income', 'max')\n",
    "                        )"
   ]
  },
  {
   "cell_type": "code",
   "execution_count": 46,
   "id": "536e6638",
   "metadata": {},
   "outputs": [
    {
     "data": {
      "text/html": [
       "<div>\n",
       "<style scoped>\n",
       "    .dataframe tbody tr th:only-of-type {\n",
       "        vertical-align: middle;\n",
       "    }\n",
       "\n",
       "    .dataframe tbody tr th {\n",
       "        vertical-align: top;\n",
       "    }\n",
       "\n",
       "    .dataframe thead th {\n",
       "        text-align: right;\n",
       "    }\n",
       "</style>\n",
       "<table border=\"1\" class=\"dataframe\">\n",
       "  <thead>\n",
       "    <tr style=\"text-align: right;\">\n",
       "      <th></th>\n",
       "      <th>job</th>\n",
       "      <th>mean_income</th>\n",
       "      <th>종사자수</th>\n",
       "      <th>최대월급</th>\n",
       "    </tr>\n",
       "  </thead>\n",
       "  <tbody>\n",
       "    <tr>\n",
       "      <th>0</th>\n",
       "      <td>가사 및 육아 도우미</td>\n",
       "      <td>92.455882</td>\n",
       "      <td>68</td>\n",
       "      <td>250.0</td>\n",
       "    </tr>\n",
       "    <tr>\n",
       "      <th>1</th>\n",
       "      <td>간호사</td>\n",
       "      <td>265.219178</td>\n",
       "      <td>73</td>\n",
       "      <td>658.0</td>\n",
       "    </tr>\n",
       "    <tr>\n",
       "      <th>2</th>\n",
       "      <td>감정∙기술영업및중개관련종사자</td>\n",
       "      <td>391.000000</td>\n",
       "      <td>18</td>\n",
       "      <td>708.0</td>\n",
       "    </tr>\n",
       "    <tr>\n",
       "      <th>3</th>\n",
       "      <td>건물 관리원 및 검표원</td>\n",
       "      <td>168.375000</td>\n",
       "      <td>80</td>\n",
       "      <td>289.0</td>\n",
       "    </tr>\n",
       "    <tr>\n",
       "      <th>4</th>\n",
       "      <td>건설 및 광업 단순 종사자</td>\n",
       "      <td>261.975000</td>\n",
       "      <td>40</td>\n",
       "      <td>427.0</td>\n",
       "    </tr>\n",
       "  </tbody>\n",
       "</table>\n",
       "</div>"
      ],
      "text/plain": [
       "                job  mean_income  종사자수   최대월급\n",
       "0       가사 및 육아 도우미    92.455882    68  250.0\n",
       "1               간호사   265.219178    73  658.0\n",
       "2  감정∙기술영업및중개관련종사자    391.000000    18  708.0\n",
       "3      건물 관리원 및 검표원   168.375000    80  289.0\n",
       "4    건설 및 광업 단순 종사자   261.975000    40  427.0"
      ]
     },
     "execution_count": 46,
     "metadata": {},
     "output_type": "execute_result"
    }
   ],
   "source": [
    "job_income.head()"
   ]
  },
  {
   "cell_type": "markdown",
   "id": "96e770a9",
   "metadata": {},
   "source": [
    "2. 그래프 만들기"
   ]
  },
  {
   "cell_type": "markdown",
   "id": "6e74b589",
   "metadata": {},
   "source": [
    "> (1) 월급이 많은 직업"
   ]
  },
  {
   "cell_type": "code",
   "execution_count": 49,
   "id": "6118ebd3",
   "metadata": {},
   "outputs": [
    {
     "data": {
      "text/html": [
       "<div>\n",
       "<style scoped>\n",
       "    .dataframe tbody tr th:only-of-type {\n",
       "        vertical-align: middle;\n",
       "    }\n",
       "\n",
       "    .dataframe tbody tr th {\n",
       "        vertical-align: top;\n",
       "    }\n",
       "\n",
       "    .dataframe thead th {\n",
       "        text-align: right;\n",
       "    }\n",
       "</style>\n",
       "<table border=\"1\" class=\"dataframe\">\n",
       "  <thead>\n",
       "    <tr style=\"text-align: right;\">\n",
       "      <th></th>\n",
       "      <th>job</th>\n",
       "      <th>mean_income</th>\n",
       "      <th>종사자수</th>\n",
       "      <th>최대월급</th>\n",
       "    </tr>\n",
       "  </thead>\n",
       "  <tbody>\n",
       "    <tr>\n",
       "      <th>98</th>\n",
       "      <td>의료 진료 전문가</td>\n",
       "      <td>781.000000</td>\n",
       "      <td>7</td>\n",
       "      <td>1592.0</td>\n",
       "    </tr>\n",
       "    <tr>\n",
       "      <th>60</th>\n",
       "      <td>법률 전문가</td>\n",
       "      <td>776.333333</td>\n",
       "      <td>3</td>\n",
       "      <td>1167.0</td>\n",
       "    </tr>\n",
       "    <tr>\n",
       "      <th>140</th>\n",
       "      <td>행정 및 경영 지원 관리자</td>\n",
       "      <td>771.833333</td>\n",
       "      <td>6</td>\n",
       "      <td>1150.0</td>\n",
       "    </tr>\n",
       "    <tr>\n",
       "      <th>63</th>\n",
       "      <td>보험 및 금융 관리자</td>\n",
       "      <td>734.750000</td>\n",
       "      <td>12</td>\n",
       "      <td>1700.0</td>\n",
       "    </tr>\n",
       "    <tr>\n",
       "      <th>110</th>\n",
       "      <td>재활용 처리 및 소각로 조작원</td>\n",
       "      <td>688.000000</td>\n",
       "      <td>1</td>\n",
       "      <td>688.0</td>\n",
       "    </tr>\n",
       "    <tr>\n",
       "      <th>131</th>\n",
       "      <td>컴퓨터 하드웨어 및 통신공학 전문가</td>\n",
       "      <td>679.444444</td>\n",
       "      <td>9</td>\n",
       "      <td>1585.0</td>\n",
       "    </tr>\n",
       "    <tr>\n",
       "      <th>24</th>\n",
       "      <td>기계∙로봇공학 기술자 및 시험원</td>\n",
       "      <td>669.166667</td>\n",
       "      <td>30</td>\n",
       "      <td>1892.0</td>\n",
       "    </tr>\n",
       "    <tr>\n",
       "      <th>6</th>\n",
       "      <td>건설∙전기 및 생산 관련 관리자</td>\n",
       "      <td>603.083333</td>\n",
       "      <td>24</td>\n",
       "      <td>1375.0</td>\n",
       "    </tr>\n",
       "    <tr>\n",
       "      <th>120</th>\n",
       "      <td>제관원 및 판금원</td>\n",
       "      <td>597.000000</td>\n",
       "      <td>4</td>\n",
       "      <td>783.0</td>\n",
       "    </tr>\n",
       "    <tr>\n",
       "      <th>100</th>\n",
       "      <td>의회 의원∙고위 공무원 및 공공단체 임원</td>\n",
       "      <td>580.500000</td>\n",
       "      <td>4</td>\n",
       "      <td>1110.0</td>\n",
       "    </tr>\n",
       "  </tbody>\n",
       "</table>\n",
       "</div>"
      ],
      "text/plain": [
       "                        job  mean_income  종사자수    최대월급\n",
       "98                의료 진료 전문가   781.000000     7  1592.0\n",
       "60                   법률 전문가   776.333333     3  1167.0\n",
       "140          행정 및 경영 지원 관리자   771.833333     6  1150.0\n",
       "63              보험 및 금융 관리자   734.750000    12  1700.0\n",
       "110        재활용 처리 및 소각로 조작원   688.000000     1   688.0\n",
       "131     컴퓨터 하드웨어 및 통신공학 전문가   679.444444     9  1585.0\n",
       "24        기계∙로봇공학 기술자 및 시험원   669.166667    30  1892.0\n",
       "6         건설∙전기 및 생산 관련 관리자   603.083333    24  1375.0\n",
       "120               제관원 및 판금원   597.000000     4   783.0\n",
       "100  의회 의원∙고위 공무원 및 공공단체 임원   580.500000     4  1110.0"
      ]
     },
     "execution_count": 49,
     "metadata": {},
     "output_type": "execute_result"
    }
   ],
   "source": [
    "# 월급 상위 10위 추출\n",
    "top10 = job_income.sort_values('mean_income', ascending=False).head(10)\n",
    "top10"
   ]
  },
  {
   "cell_type": "code",
   "execution_count": 50,
   "id": "9b77878b",
   "metadata": {},
   "outputs": [],
   "source": [
    "# 그래프 그리기 / 한글 폰트 설정\n",
    "import matplotlib.pyplot as plt\n",
    "plt.rcParams.update({'font.family' : 'Malgun Gothic'})"
   ]
  },
  {
   "cell_type": "code",
   "execution_count": 51,
   "id": "ebac679f",
   "metadata": {},
   "outputs": [
    {
     "data": {
      "text/plain": [
       "<Axes: xlabel='mean_income', ylabel='job'>"
      ]
     },
     "execution_count": 51,
     "metadata": {},
     "output_type": "execute_result"
    },
    {
     "data": {
      "image/png": "[encoded data removed]",
      "text/plain": [
       "<Figure size 640x480 with 1 Axes>"
      ]
     },
     "metadata": {},
     "output_type": "display_data"
    }
   ],
   "source": [
    "# 막대 그래프 그리기\n",
    "sns.barplot(data=top10, y='job', x='mean_income')"
   ]
  },
  {
   "cell_type": "markdown",
   "id": "22d79de7",
   "metadata": {},
   "source": [
    "> (2) 월급이 적은 직업"
   ]
  },
  {
   "cell_type": "code",
   "execution_count": 53,
   "id": "5d2f6d5e",
   "metadata": {},
   "outputs": [],
   "source": [
    "# 하위 10개 직업 추출\n",
    "worst_mean_income_10 = job_income.sort_values('mean_income').head(10)"
   ]
  },
  {
   "cell_type": "code",
   "execution_count": 54,
   "id": "bf890317",
   "metadata": {},
   "outputs": [
    {
     "data": {
      "text/html": [
       "<div>\n",
       "<style scoped>\n",
       "    .dataframe tbody tr th:only-of-type {\n",
       "        vertical-align: middle;\n",
       "    }\n",
       "\n",
       "    .dataframe tbody tr th {\n",
       "        vertical-align: top;\n",
       "    }\n",
       "\n",
       "    .dataframe thead th {\n",
       "        text-align: right;\n",
       "    }\n",
       "</style>\n",
       "<table border=\"1\" class=\"dataframe\">\n",
       "  <thead>\n",
       "    <tr style=\"text-align: right;\">\n",
       "      <th></th>\n",
       "      <th>job</th>\n",
       "      <th>mean_income</th>\n",
       "      <th>종사자수</th>\n",
       "      <th>최대월급</th>\n",
       "    </tr>\n",
       "  </thead>\n",
       "  <tbody>\n",
       "    <tr>\n",
       "      <th>33</th>\n",
       "      <td>기타 돌봄∙보건 및 개인 생활 서비스 종사자</td>\n",
       "      <td>73.964286</td>\n",
       "      <td>28</td>\n",
       "      <td>300.0</td>\n",
       "    </tr>\n",
       "    <tr>\n",
       "      <th>34</th>\n",
       "      <td>기타 서비스 관련 단순 종사자</td>\n",
       "      <td>77.789474</td>\n",
       "      <td>133</td>\n",
       "      <td>336.0</td>\n",
       "    </tr>\n",
       "    <tr>\n",
       "      <th>128</th>\n",
       "      <td>청소원 및 환경미화원</td>\n",
       "      <td>88.461756</td>\n",
       "      <td>353</td>\n",
       "      <td>417.0</td>\n",
       "    </tr>\n",
       "    <tr>\n",
       "      <th>0</th>\n",
       "      <td>가사 및 육아 도우미</td>\n",
       "      <td>92.455882</td>\n",
       "      <td>68</td>\n",
       "      <td>250.0</td>\n",
       "    </tr>\n",
       "    <tr>\n",
       "      <th>43</th>\n",
       "      <td>돌봄 및 보건 서비스 종사자</td>\n",
       "      <td>117.162338</td>\n",
       "      <td>154</td>\n",
       "      <td>274.0</td>\n",
       "    </tr>\n",
       "    <tr>\n",
       "      <th>97</th>\n",
       "      <td>음식 관련 단순 종사자</td>\n",
       "      <td>118.187500</td>\n",
       "      <td>112</td>\n",
       "      <td>358.0</td>\n",
       "    </tr>\n",
       "    <tr>\n",
       "      <th>39</th>\n",
       "      <td>농림∙어업 관련 단순 종사자</td>\n",
       "      <td>122.625000</td>\n",
       "      <td>24</td>\n",
       "      <td>215.0</td>\n",
       "    </tr>\n",
       "    <tr>\n",
       "      <th>139</th>\n",
       "      <td>학예사∙사서 및 기록물 관리사</td>\n",
       "      <td>140.000000</td>\n",
       "      <td>2</td>\n",
       "      <td>208.0</td>\n",
       "    </tr>\n",
       "    <tr>\n",
       "      <th>126</th>\n",
       "      <td>채굴 및 토목 관련 기능 종사자</td>\n",
       "      <td>140.000000</td>\n",
       "      <td>2</td>\n",
       "      <td>200.0</td>\n",
       "    </tr>\n",
       "    <tr>\n",
       "      <th>135</th>\n",
       "      <td>판매 관련 단순 종사자</td>\n",
       "      <td>140.909091</td>\n",
       "      <td>44</td>\n",
       "      <td>344.0</td>\n",
       "    </tr>\n",
       "  </tbody>\n",
       "</table>\n",
       "</div>"
      ],
      "text/plain": [
       "                          job  mean_income  종사자수   최대월급\n",
       "33   기타 돌봄∙보건 및 개인 생활 서비스 종사자    73.964286    28  300.0\n",
       "34           기타 서비스 관련 단순 종사자    77.789474   133  336.0\n",
       "128               청소원 및 환경미화원    88.461756   353  417.0\n",
       "0                 가사 및 육아 도우미    92.455882    68  250.0\n",
       "43            돌봄 및 보건 서비스 종사자   117.162338   154  274.0\n",
       "97               음식 관련 단순 종사자   118.187500   112  358.0\n",
       "39            농림∙어업 관련 단순 종사자   122.625000    24  215.0\n",
       "139          학예사∙사서 및 기록물 관리사   140.000000     2  208.0\n",
       "126         채굴 및 토목 관련 기능 종사자   140.000000     2  200.0\n",
       "135              판매 관련 단순 종사자   140.909091    44  344.0"
      ]
     },
     "execution_count": 54,
     "metadata": {},
     "output_type": "execute_result"
    }
   ],
   "source": [
    "worst_mean_income_10"
   ]
  },
  {
   "cell_type": "code",
   "execution_count": 55,
   "id": "3a5cd799",
   "metadata": {},
   "outputs": [
    {
     "data": {
      "text/plain": [
       "[(0.0, 800.0)]"
      ]
     },
     "execution_count": 55,
     "metadata": {},
     "output_type": "execute_result"
    },
    {
     "data": {
      "image/png": "[encoded data removed]",
      "text/plain": [
       "<Figure size 640x480 with 1 Axes>"
      ]
     },
     "metadata": {},
     "output_type": "display_data"
    }
   ],
   "source": [
    "# 막대 그래프 그리기 (상위 월급 직업군과 스케일을 맞추기 위해 x 범위를 0 ~ 800만원으로 조정\n",
    "# sns.barplot(data=worst_mean_income_10, y='job', x='mean_income')\n",
    "sns.barplot(data=worst_mean_income_10, y='job', x='mean_income').set(xlim=(0, 800))"
   ]
  },
  {
   "cell_type": "code",
   "execution_count": 56,
   "id": "785820d4",
   "metadata": {},
   "outputs": [
    {
     "data": {
      "text/plain": [
       "<Axes: xlabel='mean_income', ylabel='job'>"
      ]
     },
     "execution_count": 56,
     "metadata": {},
     "output_type": "execute_result"
    },
    {
     "data": {
      "image/png": "[encoded data removed]",
      "text/plain": [
       "<Figure size 640x480 with 1 Axes>"
      ]
     },
     "metadata": {},
     "output_type": "display_data"
    }
   ],
   "source": [
    "sns.barplot(data=top10, y='job', x='mean_income')"
   ]
  },
  {
   "cell_type": "markdown",
   "id": "697b5d49",
   "metadata": {},
   "source": [
    "> 데이터 분석\n",
    "- '기타 돌봄∙보건 및 개인 생활 서비스 종사자'의 월급이 평균 73만원으로 가장 적고\n",
    "- 월급이 가장 많은 '의료 진료 전문가' 평균 781만원과 비교하여 열배가 넘는 격차가 발생 \t"
   ]
  },
  {
   "cell_type": "markdown",
   "id": "0280b105",
   "metadata": {},
   "source": [
    "# 9-7 성별 직업 빈도 - 성별로 어떤 직업이 가장 많을까?\n",
    "> ## Lab 4 : 성별 직업 빈도 분석하기\n",
    "## Lab 4 : 성별 직업 빈도 분석하기"
   ]
  },
  {
   "cell_type": "markdown",
   "id": "3637f293",
   "metadata": {},
   "source": [
    "1. 성별 직업 빈도표 만들기"
   ]
  },
  {
   "cell_type": "code",
   "execution_count": 60,
   "id": "e2a26af1",
   "metadata": {},
   "outputs": [
    {
     "name": "stdout",
     "output_type": "stream",
     "text": [
      "result3.shape :  (148, 2)\n"
     ]
    },
    {
     "data": {
      "text/plain": [
       "<Axes: xlabel='해당직업인원수', ylabel='job'>"
      ]
     },
     "execution_count": 60,
     "metadata": {},
     "output_type": "execute_result"
    },
    {
     "data": {
      "image/png": "[encoded data removed]",
      "text/plain": [
       "<Figure size 640x480 with 1 Axes>"
      ]
     },
     "metadata": {},
     "output_type": "display_data"
    }
   ],
   "source": [
    "result0 = welfare.dropna(subset = ['job'])\n",
    "result1 = result0.query('sex == \"male\"') \n",
    "result2 = result1.groupby('job', as_index = False)\\\n",
    "                    .agg(해당직업인원수 = ('job', 'count'))\n",
    "result3 = result2.sort_values('해당직업인원수', ascending = False)\n",
    "result3.head(5)\n",
    "print(\"result3.shape : \", result3.shape)\n",
    "sns.barplot(data = result3.head(10), y ='job', x= '해당직업인원수')\n"
   ]
  },
  {
   "cell_type": "code",
   "execution_count": 61,
   "id": "de758af9",
   "metadata": {},
   "outputs": [],
   "source": [
    "# 남성 직업 빈도 상위 10개 추출\n",
    "top10_job_male = welfare.dropna(subset=['job'])\\\n",
    "                .query('sex==\"male\"')\\\n",
    "                .groupby('job', as_index=False)\\\n",
    "                .agg(n=('job', 'count'))\\\n",
    "                .sort_values('n', ascending=False)\\\n",
    "                .head(10)"
   ]
  },
  {
   "cell_type": "code",
   "execution_count": 62,
   "id": "fde0cb3a",
   "metadata": {},
   "outputs": [
    {
     "data": {
      "text/html": [
       "<div>\n",
       "<style scoped>\n",
       "    .dataframe tbody tr th:only-of-type {\n",
       "        vertical-align: middle;\n",
       "    }\n",
       "\n",
       "    .dataframe tbody tr th {\n",
       "        vertical-align: top;\n",
       "    }\n",
       "\n",
       "    .dataframe thead th {\n",
       "        text-align: right;\n",
       "    }\n",
       "</style>\n",
       "<table border=\"1\" class=\"dataframe\">\n",
       "  <thead>\n",
       "    <tr style=\"text-align: right;\">\n",
       "      <th></th>\n",
       "      <th>job</th>\n",
       "      <th>n</th>\n",
       "    </tr>\n",
       "  </thead>\n",
       "  <tbody>\n",
       "    <tr>\n",
       "      <th>107</th>\n",
       "      <td>작물 재배 종사자</td>\n",
       "      <td>486</td>\n",
       "    </tr>\n",
       "    <tr>\n",
       "      <th>104</th>\n",
       "      <td>자동차 운전원</td>\n",
       "      <td>230</td>\n",
       "    </tr>\n",
       "    <tr>\n",
       "      <th>11</th>\n",
       "      <td>경영 관련 사무원</td>\n",
       "      <td>216</td>\n",
       "    </tr>\n",
       "    <tr>\n",
       "      <th>46</th>\n",
       "      <td>매장 판매 종사자</td>\n",
       "      <td>142</td>\n",
       "    </tr>\n",
       "    <tr>\n",
       "      <th>89</th>\n",
       "      <td>영업 종사자</td>\n",
       "      <td>113</td>\n",
       "    </tr>\n",
       "    <tr>\n",
       "      <th>127</th>\n",
       "      <td>청소원 및 환경미화원</td>\n",
       "      <td>109</td>\n",
       "    </tr>\n",
       "    <tr>\n",
       "      <th>4</th>\n",
       "      <td>건설 및 광업 단순 종사자</td>\n",
       "      <td>96</td>\n",
       "    </tr>\n",
       "    <tr>\n",
       "      <th>120</th>\n",
       "      <td>제조 관련 단순 종사자</td>\n",
       "      <td>80</td>\n",
       "    </tr>\n",
       "    <tr>\n",
       "      <th>3</th>\n",
       "      <td>건물 관리원 및 검표원</td>\n",
       "      <td>79</td>\n",
       "    </tr>\n",
       "    <tr>\n",
       "      <th>141</th>\n",
       "      <td>행정 사무원</td>\n",
       "      <td>74</td>\n",
       "    </tr>\n",
       "  </tbody>\n",
       "</table>\n",
       "</div>"
      ],
      "text/plain": [
       "                job    n\n",
       "107       작물 재배 종사자  486\n",
       "104         자동차 운전원  230\n",
       "11        경영 관련 사무원  216\n",
       "46        매장 판매 종사자  142\n",
       "89           영업 종사자  113\n",
       "127     청소원 및 환경미화원  109\n",
       "4    건설 및 광업 단순 종사자   96\n",
       "120    제조 관련 단순 종사자   80\n",
       "3      건물 관리원 및 검표원   79\n",
       "141          행정 사무원   74"
      ]
     },
     "execution_count": 62,
     "metadata": {},
     "output_type": "execute_result"
    }
   ],
   "source": [
    "top10_job_male"
   ]
  },
  {
   "cell_type": "code",
   "execution_count": 63,
   "id": "7d52f360",
   "metadata": {},
   "outputs": [
    {
     "data": {
      "text/plain": [
       "<Axes: xlabel='n', ylabel='job'>"
      ]
     },
     "execution_count": 63,
     "metadata": {},
     "output_type": "execute_result"
    },
    {
     "data": {
      "image/png": "[encoded data removed]",
      "text/plain": [
       "<Figure size 640x480 with 1 Axes>"
      ]
     },
     "metadata": {},
     "output_type": "display_data"
    }
   ],
   "source": [
    "sns.barplot(data = top10_job_male, y='job' , x='n')"
   ]
  },
  {
   "cell_type": "code",
   "execution_count": 64,
   "id": "2dfde5a0",
   "metadata": {},
   "outputs": [],
   "source": [
    "# 여성 직업 빈도 상위 10개 추출\n",
    "\n",
    "top10_job_female = welfare.dropna(subset=['job'])\\\n",
    "                .query('sex==\"female\"')\\\n",
    "                .groupby('job', as_index=False)\\\n",
    "                .agg(n=('job', 'count'))\\\n",
    "                .sort_values('n', ascending=False)\\\n",
    "                .head(10)\n"
   ]
  },
  {
   "cell_type": "code",
   "execution_count": 65,
   "id": "92f06066",
   "metadata": {},
   "outputs": [
    {
     "data": {
      "text/html": [
       "<div>\n",
       "<style scoped>\n",
       "    .dataframe tbody tr th:only-of-type {\n",
       "        vertical-align: middle;\n",
       "    }\n",
       "\n",
       "    .dataframe tbody tr th {\n",
       "        vertical-align: top;\n",
       "    }\n",
       "\n",
       "    .dataframe thead th {\n",
       "        text-align: right;\n",
       "    }\n",
       "</style>\n",
       "<table border=\"1\" class=\"dataframe\">\n",
       "  <thead>\n",
       "    <tr style=\"text-align: right;\">\n",
       "      <th></th>\n",
       "      <th>job</th>\n",
       "      <th>n</th>\n",
       "    </tr>\n",
       "  </thead>\n",
       "  <tbody>\n",
       "    <tr>\n",
       "      <th>83</th>\n",
       "      <td>작물 재배 종사자</td>\n",
       "      <td>476</td>\n",
       "    </tr>\n",
       "    <tr>\n",
       "      <th>91</th>\n",
       "      <td>청소원 및 환경미화원</td>\n",
       "      <td>282</td>\n",
       "    </tr>\n",
       "    <tr>\n",
       "      <th>33</th>\n",
       "      <td>매장 판매 종사자</td>\n",
       "      <td>212</td>\n",
       "    </tr>\n",
       "    <tr>\n",
       "      <th>106</th>\n",
       "      <td>회계 및 경리 사무원</td>\n",
       "      <td>163</td>\n",
       "    </tr>\n",
       "    <tr>\n",
       "      <th>31</th>\n",
       "      <td>돌봄 및 보건 서비스 종사자</td>\n",
       "      <td>155</td>\n",
       "    </tr>\n",
       "    <tr>\n",
       "      <th>87</th>\n",
       "      <td>제조 관련 단순 종사자</td>\n",
       "      <td>148</td>\n",
       "    </tr>\n",
       "    <tr>\n",
       "      <th>73</th>\n",
       "      <td>음식 관련 단순 종사자</td>\n",
       "      <td>126</td>\n",
       "    </tr>\n",
       "    <tr>\n",
       "      <th>58</th>\n",
       "      <td>식음료 서비스 종사자</td>\n",
       "      <td>117</td>\n",
       "    </tr>\n",
       "    <tr>\n",
       "      <th>88</th>\n",
       "      <td>조리사</td>\n",
       "      <td>114</td>\n",
       "    </tr>\n",
       "    <tr>\n",
       "      <th>24</th>\n",
       "      <td>기타 서비스 관련 단순 종사자</td>\n",
       "      <td>97</td>\n",
       "    </tr>\n",
       "  </tbody>\n",
       "</table>\n",
       "</div>"
      ],
      "text/plain": [
       "                  job    n\n",
       "83          작물 재배 종사자  476\n",
       "91        청소원 및 환경미화원  282\n",
       "33          매장 판매 종사자  212\n",
       "106       회계 및 경리 사무원  163\n",
       "31    돌봄 및 보건 서비스 종사자  155\n",
       "87       제조 관련 단순 종사자  148\n",
       "73       음식 관련 단순 종사자  126\n",
       "58        식음료 서비스 종사자  117\n",
       "88                조리사  114\n",
       "24   기타 서비스 관련 단순 종사자   97"
      ]
     },
     "execution_count": 65,
     "metadata": {},
     "output_type": "execute_result"
    }
   ],
   "source": [
    "top10_job_female"
   ]
  },
  {
   "cell_type": "markdown",
   "id": "9efe570a",
   "metadata": {},
   "source": [
    "2. 그래프 만들기"
   ]
  },
  {
   "cell_type": "code",
   "execution_count": 67,
   "id": "5417f84d",
   "metadata": {},
   "outputs": [
    {
     "data": {
      "text/plain": [
       "[(0.0, 500.0)]"
      ]
     },
     "execution_count": 67,
     "metadata": {},
     "output_type": "execute_result"
    },
    {
     "data": {
      "image/png": "[encoded data removed]",
      "text/plain": [
       "<Figure size 640x480 with 1 Axes>"
      ]
     },
     "metadata": {},
     "output_type": "display_data"
    }
   ],
   "source": [
    "# 남성 직업 빈도 막대 그래프 만들기\n",
    "sns.barplot(data=top10_job_male, x='n', y='job').set(xlim = (0, 500))"
   ]
  },
  {
   "cell_type": "code",
   "execution_count": 68,
   "id": "1ac96bd1",
   "metadata": {},
   "outputs": [
    {
     "data": {
      "text/plain": [
       "[(0.0, 500.0)]"
      ]
     },
     "execution_count": 68,
     "metadata": {},
     "output_type": "execute_result"
    },
    {
     "data": {
      "image/png": "[encoded data removed]",
      "text/plain": [
       "<Figure size 640x480 with 1 Axes>"
      ]
     },
     "metadata": {},
     "output_type": "display_data"
    }
   ],
   "source": [
    "# 여성 직업 빈도 막대 그래프 만들기\n",
    "sns.barplot(data=top10_job_female, x='n', y='job').set(xlim = (0, 500))"
   ]
  },
  {
   "cell_type": "markdown",
   "id": "51254a5a",
   "metadata": {},
   "source": [
    "# 9-8 종교 유무에 따른 이혼율 - 종교가 있으면 이혼을 덜할까?\n",
    "> ## Lab 5 : 종교 변수 검토 및 전처리하기\n",
    "> ## Lab 6 : 혼인상태 변수 검토 및 전처리하기\n",
    "> ## Lab 7 : 종교 유무에 따른 이혼율 분석하기\n",
    "> ## Lab 8 : 연령대 및 종교 유무에 따른 이혼율 분석하기"
   ]
  },
  {
   "cell_type": "markdown",
   "id": "a0e566e1",
   "metadata": {},
   "source": [
    "## Lab 5 : 종교 변수 검토 및 전처리하기\n",
    "- religion 변수 상태 검토"
   ]
  },
  {
   "cell_type": "markdown",
   "id": "ab05925f",
   "metadata": {},
   "source": [
    "1. 변수 검토하기"
   ]
  },
  {
   "cell_type": "code",
   "execution_count": 72,
   "id": "3ef5ff0e",
   "metadata": {},
   "outputs": [
    {
     "data": {
      "text/plain": [
       "dtype('float64')"
      ]
     },
     "execution_count": 72,
     "metadata": {},
     "output_type": "execute_result"
    }
   ],
   "source": [
    "# 종교 변수 타입 출력\n",
    "welfare['religion'].dtypes"
   ]
  },
  {
   "cell_type": "code",
   "execution_count": 73,
   "id": "baac9505",
   "metadata": {},
   "outputs": [
    {
     "data": {
      "text/plain": [
       "religion\n",
       "2.0    7815\n",
       "1.0    6603\n",
       "Name: count, dtype: int64"
      ]
     },
     "execution_count": 73,
     "metadata": {},
     "output_type": "execute_result"
    }
   ],
   "source": [
    "# 종교 별 빈도 구하기\n",
    "welfare['religion'].value_counts()"
   ]
  },
  {
   "cell_type": "markdown",
   "id": "82411191",
   "metadata": {},
   "source": [
    "> 종교 값이 코드화 되어 있음 (무응답(9)은 없음)\n",
    "\n",
    "|   값   |  내용   |\n",
    "|---     | ----    |\n",
    "| 1      | 있음    |\n",
    "| 2      | 없음    |\n",
    "| 9      | 무응답  |"
   ]
  },
  {
   "cell_type": "markdown",
   "id": "43c2547e",
   "metadata": {},
   "source": [
    "2. 전처리\n",
    "- 종교가 있으면(1) 'yes', 없으면(2) 'no'로 변환"
   ]
  },
  {
   "cell_type": "code",
   "execution_count": 76,
   "id": "44e8900b",
   "metadata": {},
   "outputs": [],
   "source": [
    "#9가 있으면  np.nan으로 바꾼다.\n",
    "welfare['religion'] = np.where( welfare['religion'] == 9 , np.nan, welfare['religion'] ) "
   ]
  },
  {
   "cell_type": "code",
   "execution_count": 77,
   "id": "fca03d80",
   "metadata": {},
   "outputs": [
    {
     "data": {
      "text/plain": [
       "0"
      ]
     },
     "execution_count": 77,
     "metadata": {},
     "output_type": "execute_result"
    }
   ],
   "source": [
    "welfare['religion'].isna().sum()"
   ]
  },
  {
   "cell_type": "code",
   "execution_count": 78,
   "id": "96c66d7a",
   "metadata": {},
   "outputs": [
    {
     "data": {
      "text/plain": [
       "0    1.0\n",
       "1    2.0\n",
       "2    1.0\n",
       "3    1.0\n",
       "4    1.0\n",
       "Name: religion, dtype: float64"
      ]
     },
     "execution_count": 78,
     "metadata": {},
     "output_type": "execute_result"
    }
   ],
   "source": [
    "welfare['religion'].head()"
   ]
  },
  {
   "cell_type": "code",
   "execution_count": 79,
   "id": "ea9f64fd",
   "metadata": {},
   "outputs": [],
   "source": [
    "# 종교 유무에 있을경우에 'yes', 없을 경우에는 'no'\n",
    "welfare['religion'] = np.where(welfare['religion'] == 1, 'yes', 'no')"
   ]
  },
  {
   "cell_type": "code",
   "execution_count": 80,
   "id": "86995da6",
   "metadata": {},
   "outputs": [
    {
     "data": {
      "text/plain": [
       "0    yes\n",
       "1     no\n",
       "2    yes\n",
       "3    yes\n",
       "4    yes\n",
       "Name: religion, dtype: object"
      ]
     },
     "execution_count": 80,
     "metadata": {},
     "output_type": "execute_result"
    }
   ],
   "source": [
    "welfare['religion'].head()"
   ]
  },
  {
   "cell_type": "code",
   "execution_count": 81,
   "id": "438cc0de",
   "metadata": {},
   "outputs": [
    {
     "data": {
      "text/plain": [
       "religion\n",
       "no     7815\n",
       "yes    6603\n",
       "Name: count, dtype: int64"
      ]
     },
     "execution_count": 81,
     "metadata": {},
     "output_type": "execute_result"
    }
   ],
   "source": [
    "# 빈도 구하기\n",
    "welfare['religion'].value_counts()"
   ]
  },
  {
   "cell_type": "code",
   "execution_count": 82,
   "id": "83dac2d9",
   "metadata": {},
   "outputs": [
    {
     "data": {
      "text/plain": [
       "<Axes: xlabel='religion', ylabel='count'>"
      ]
     },
     "execution_count": 82,
     "metadata": {},
     "output_type": "execute_result"
    },
    {
     "data": {
      "image/png": "[encoded data removed]",
      "text/plain": [
       "<Figure size 640x480 with 1 Axes>"
      ]
     },
     "metadata": {},
     "output_type": "display_data"
    }
   ],
   "source": [
    "# 막대 그래프 그리기\n",
    "sns.countplot(data=welfare, x='religion')"
   ]
  },
  {
   "cell_type": "markdown",
   "id": "b03bf7e7",
   "metadata": {},
   "source": [
    "## Lab 6 : 혼인상태 변수 검토 및 전처리하기\n",
    "- marriage_type 변수 검토"
   ]
  },
  {
   "cell_type": "markdown",
   "id": "cfd24901",
   "metadata": {},
   "source": [
    "1. 변수 검토하기"
   ]
  },
  {
   "cell_type": "code",
   "execution_count": 85,
   "id": "a91fc0cf",
   "metadata": {},
   "outputs": [
    {
     "data": {
      "text/plain": [
       "dtype('float64')"
      ]
     },
     "execution_count": 85,
     "metadata": {},
     "output_type": "execute_result"
    }
   ],
   "source": [
    "# 변수 타입 출력\n",
    "welfare['marriage_type'].dtypes"
   ]
  },
  {
   "cell_type": "code",
   "execution_count": 86,
   "id": "f2e82ec9",
   "metadata": {},
   "outputs": [
    {
     "data": {
      "text/plain": [
       "marriage_type\n",
       "1.0    7190\n",
       "5.0    2357\n",
       "0.0    2121\n",
       "2.0    1954\n",
       "3.0     689\n",
       "4.0      78\n",
       "6.0      29\n",
       "Name: count, dtype: int64"
      ]
     },
     "execution_count": 86,
     "metadata": {},
     "output_type": "execute_result"
    }
   ],
   "source": [
    "# 결홍 유형에 따른 빈도수 출력\n",
    "welfare['marriage_type'].value_counts()"
   ]
  },
  {
   "cell_type": "markdown",
   "id": "2ec293c9",
   "metadata": {},
   "source": [
    "> marriage_type이 0, 1, 2, 3, 4, 5, 6까지 7개 유형이 있음을 알 수 있다\n",
    "\n",
    "|    값  |     내용     |\n",
    "| ---    | -----        |\n",
    "|0       | 해당 없음(18세 미만)    |\n",
    "|1       | 유배우  |\n",
    "|2       | 사별    |\n",
    "|3       | 이혼    |\n",
    "|4       | 별거    |\n",
    "|5       | 미혼(18세 이상, 미혼모 포함    |\n",
    "|6       | 기타(사망 등)    |"
   ]
  },
  {
   "cell_type": "markdown",
   "id": "6d1d5816",
   "metadata": {},
   "source": [
    "2. 파생변수 만들기 - 이혼 여부\n",
    "- marriage_type (1) : 결혼\n",
    "- marriage_type (3) : 이혼\n",
    "- marriage_type (0, 2, 4, 5, 6) : 기타"
   ]
  },
  {
   "cell_type": "code",
   "execution_count": 89,
   "id": "89d9ea58",
   "metadata": {},
   "outputs": [],
   "source": [
    "# 이혼 여부 변수 만들기\n",
    "welfare['marriage'] = np.where(welfare['marriage_type'] == 1, 'marriage',\n",
    "                      np.where(welfare['marriage_type'] == 3, 'divorce',\n",
    "                                                          'etc'))"
   ]
  },
  {
   "cell_type": "code",
   "execution_count": 90,
   "id": "1e1e81b1",
   "metadata": {},
   "outputs": [],
   "source": [
    "# 이혼 여부별 빈도\n",
    "n_divorce = welfare.groupby('marriage', as_index = False) \\\n",
    "                    .agg(n = ('marriage', 'count'))"
   ]
  },
  {
   "cell_type": "code",
   "execution_count": 91,
   "id": "05627832",
   "metadata": {},
   "outputs": [
    {
     "data": {
      "text/html": [
       "<div>\n",
       "<style scoped>\n",
       "    .dataframe tbody tr th:only-of-type {\n",
       "        vertical-align: middle;\n",
       "    }\n",
       "\n",
       "    .dataframe tbody tr th {\n",
       "        vertical-align: top;\n",
       "    }\n",
       "\n",
       "    .dataframe thead th {\n",
       "        text-align: right;\n",
       "    }\n",
       "</style>\n",
       "<table border=\"1\" class=\"dataframe\">\n",
       "  <thead>\n",
       "    <tr style=\"text-align: right;\">\n",
       "      <th></th>\n",
       "      <th>marriage</th>\n",
       "      <th>n</th>\n",
       "    </tr>\n",
       "  </thead>\n",
       "  <tbody>\n",
       "    <tr>\n",
       "      <th>0</th>\n",
       "      <td>divorce</td>\n",
       "      <td>689</td>\n",
       "    </tr>\n",
       "    <tr>\n",
       "      <th>1</th>\n",
       "      <td>etc</td>\n",
       "      <td>6539</td>\n",
       "    </tr>\n",
       "    <tr>\n",
       "      <th>2</th>\n",
       "      <td>marriage</td>\n",
       "      <td>7190</td>\n",
       "    </tr>\n",
       "  </tbody>\n",
       "</table>\n",
       "</div>"
      ],
      "text/plain": [
       "   marriage     n\n",
       "0   divorce   689\n",
       "1       etc  6539\n",
       "2  marriage  7190"
      ]
     },
     "execution_count": 91,
     "metadata": {},
     "output_type": "execute_result"
    }
   ],
   "source": [
    "n_divorce"
   ]
  },
  {
   "cell_type": "code",
   "execution_count": 92,
   "id": "83b438ff",
   "metadata": {},
   "outputs": [
    {
     "data": {
      "text/plain": [
       "<Axes: xlabel='marriage', ylabel='n'>"
      ]
     },
     "execution_count": 92,
     "metadata": {},
     "output_type": "execute_result"
    },
    {
     "data": {
      "image/png": "[encoded data removed]",
      "text/plain": [
       "<Figure size 640x480 with 1 Axes>"
      ]
     },
     "metadata": {},
     "output_type": "display_data"
    }
   ],
   "source": [
    "# 막대 그래프 그리기\n",
    "sns.barplot(data=n_divorce, x='marriage', y='n')"
   ]
  },
  {
   "cell_type": "markdown",
   "id": "f460145d",
   "metadata": {},
   "source": [
    "## Lab 7 : 종교 유무에 따른 이혼율 분석하기"
   ]
  },
  {
   "cell_type": "markdown",
   "id": "f67d7447",
   "metadata": {},
   "source": [
    "1. 종교 유무에 따른 이혼율 표 만들기"
   ]
  },
  {
   "cell_type": "code",
   "execution_count": 95,
   "id": "cb5cf78c",
   "metadata": {},
   "outputs": [
    {
     "data": {
      "text/html": [
       "<div>\n",
       "<style scoped>\n",
       "    .dataframe tbody tr th:only-of-type {\n",
       "        vertical-align: middle;\n",
       "    }\n",
       "\n",
       "    .dataframe tbody tr th {\n",
       "        vertical-align: top;\n",
       "    }\n",
       "\n",
       "    .dataframe thead th {\n",
       "        text-align: right;\n",
       "    }\n",
       "</style>\n",
       "<table border=\"1\" class=\"dataframe\">\n",
       "  <thead>\n",
       "    <tr style=\"text-align: right;\">\n",
       "      <th></th>\n",
       "      <th>religion</th>\n",
       "      <th>marriage</th>\n",
       "      <th>n</th>\n",
       "    </tr>\n",
       "  </thead>\n",
       "  <tbody>\n",
       "    <tr>\n",
       "      <th>0</th>\n",
       "      <td>no</td>\n",
       "      <td>divorce</td>\n",
       "      <td>384</td>\n",
       "    </tr>\n",
       "    <tr>\n",
       "      <th>1</th>\n",
       "      <td>no</td>\n",
       "      <td>marriage</td>\n",
       "      <td>3660</td>\n",
       "    </tr>\n",
       "    <tr>\n",
       "      <th>2</th>\n",
       "      <td>yes</td>\n",
       "      <td>divorce</td>\n",
       "      <td>305</td>\n",
       "    </tr>\n",
       "    <tr>\n",
       "      <th>3</th>\n",
       "      <td>yes</td>\n",
       "      <td>marriage</td>\n",
       "      <td>3530</td>\n",
       "    </tr>\n",
       "  </tbody>\n",
       "</table>\n",
       "</div>"
      ],
      "text/plain": [
       "  religion  marriage     n\n",
       "0       no   divorce   384\n",
       "1       no  marriage  3660\n",
       "2      yes   divorce   305\n",
       "3      yes  marriage  3530"
      ]
     },
     "execution_count": 95,
     "metadata": {},
     "output_type": "execute_result"
    }
   ],
   "source": [
    "#1) groupby를 두개의 column으로 \n",
    "rel_div1 = welfare.query('marriage != \"etc\"') \\\n",
    "                .groupby(['religion', 'marriage'], as_index = False)\\\n",
    "                .agg( n =('religion', 'count'))\n",
    "rel_div1"
   ]
  },
  {
   "cell_type": "code",
   "execution_count": 96,
   "id": "5f2e6ea3",
   "metadata": {},
   "outputs": [
    {
     "data": {
      "text/plain": [
       "<pandas.core.groupby.generic.DataFrameGroupBy object at 0x000001BA2F6BB050>"
      ]
     },
     "execution_count": 96,
     "metadata": {},
     "output_type": "execute_result"
    }
   ],
   "source": [
    "df_groupby = welfare.query('marriage != \"etc\"') \\\n",
    "                .groupby('religion', as_index = False)\n",
    "df_groupby"
   ]
  },
  {
   "cell_type": "code",
   "execution_count": 97,
   "id": "1292e59a",
   "metadata": {},
   "outputs": [
    {
     "data": {
      "text/html": [
       "<div>\n",
       "<style scoped>\n",
       "    .dataframe tbody tr th:only-of-type {\n",
       "        vertical-align: middle;\n",
       "    }\n",
       "\n",
       "    .dataframe tbody tr th {\n",
       "        vertical-align: top;\n",
       "    }\n",
       "\n",
       "    .dataframe thead th {\n",
       "        text-align: right;\n",
       "    }\n",
       "</style>\n",
       "<table border=\"1\" class=\"dataframe\">\n",
       "  <thead>\n",
       "    <tr style=\"text-align: right;\">\n",
       "      <th></th>\n",
       "      <th>religion</th>\n",
       "      <th>marriage</th>\n",
       "      <th>count</th>\n",
       "    </tr>\n",
       "  </thead>\n",
       "  <tbody>\n",
       "    <tr>\n",
       "      <th>0</th>\n",
       "      <td>no</td>\n",
       "      <td>marriage</td>\n",
       "      <td>3660</td>\n",
       "    </tr>\n",
       "    <tr>\n",
       "      <th>1</th>\n",
       "      <td>no</td>\n",
       "      <td>divorce</td>\n",
       "      <td>384</td>\n",
       "    </tr>\n",
       "    <tr>\n",
       "      <th>2</th>\n",
       "      <td>yes</td>\n",
       "      <td>marriage</td>\n",
       "      <td>3530</td>\n",
       "    </tr>\n",
       "    <tr>\n",
       "      <th>3</th>\n",
       "      <td>yes</td>\n",
       "      <td>divorce</td>\n",
       "      <td>305</td>\n",
       "    </tr>\n",
       "  </tbody>\n",
       "</table>\n",
       "</div>"
      ],
      "text/plain": [
       "  religion  marriage  count\n",
       "0       no  marriage   3660\n",
       "1       no   divorce    384\n",
       "2      yes  marriage   3530\n",
       "3      yes   divorce    305"
      ]
     },
     "execution_count": 97,
     "metadata": {},
     "output_type": "execute_result"
    }
   ],
   "source": [
    "#2) groupby는 하나의 column 으로, value_counts()\n",
    "rel_div2 = welfare.query('marriage != \"etc\"') \\\n",
    "                .groupby('religion', as_index = False)['marriage']\\\n",
    "                .value_counts()\n",
    "rel_div2"
   ]
  },
  {
   "cell_type": "code",
   "execution_count": 98,
   "id": "c3ad9d50",
   "metadata": {},
   "outputs": [
    {
     "data": {
      "text/html": [
       "<div>\n",
       "<style scoped>\n",
       "    .dataframe tbody tr th:only-of-type {\n",
       "        vertical-align: middle;\n",
       "    }\n",
       "\n",
       "    .dataframe tbody tr th {\n",
       "        vertical-align: top;\n",
       "    }\n",
       "\n",
       "    .dataframe thead th {\n",
       "        text-align: right;\n",
       "    }\n",
       "</style>\n",
       "<table border=\"1\" class=\"dataframe\">\n",
       "  <thead>\n",
       "    <tr style=\"text-align: right;\">\n",
       "      <th></th>\n",
       "      <th>religion</th>\n",
       "      <th>marriage</th>\n",
       "      <th>proportion</th>\n",
       "    </tr>\n",
       "  </thead>\n",
       "  <tbody>\n",
       "    <tr>\n",
       "      <th>0</th>\n",
       "      <td>no</td>\n",
       "      <td>marriage</td>\n",
       "      <td>0.905045</td>\n",
       "    </tr>\n",
       "    <tr>\n",
       "      <th>1</th>\n",
       "      <td>no</td>\n",
       "      <td>divorce</td>\n",
       "      <td>0.094955</td>\n",
       "    </tr>\n",
       "    <tr>\n",
       "      <th>2</th>\n",
       "      <td>yes</td>\n",
       "      <td>marriage</td>\n",
       "      <td>0.920469</td>\n",
       "    </tr>\n",
       "    <tr>\n",
       "      <th>3</th>\n",
       "      <td>yes</td>\n",
       "      <td>divorce</td>\n",
       "      <td>0.079531</td>\n",
       "    </tr>\n",
       "  </tbody>\n",
       "</table>\n",
       "</div>"
      ],
      "text/plain": [
       "  religion  marriage  proportion\n",
       "0       no  marriage    0.905045\n",
       "1       no   divorce    0.094955\n",
       "2      yes  marriage    0.920469\n",
       "3      yes   divorce    0.079531"
      ]
     },
     "execution_count": 98,
     "metadata": {},
     "output_type": "execute_result"
    }
   ],
   "source": [
    "#3) normalize = True \n",
    "rel_div3 = welfare.query('marriage != \"etc\"') \\\n",
    "                .groupby('religion', as_index = False)['marriage']\\\n",
    "                .value_counts(normalize = True)\n",
    "rel_div3"
   ]
  },
  {
   "cell_type": "markdown",
   "id": "9b472aec-7da3-412f-a6a6-e62a38584b86",
   "metadata": {},
   "source": [
    "# 다른 컬럼을 더 추가하고 싶을때는?"
   ]
  },
  {
   "cell_type": "code",
   "execution_count": 100,
   "id": "e52d1ada",
   "metadata": {},
   "outputs": [
    {
     "data": {
      "text/html": [
       "<div>\n",
       "<style scoped>\n",
       "    .dataframe tbody tr th:only-of-type {\n",
       "        vertical-align: middle;\n",
       "    }\n",
       "\n",
       "    .dataframe tbody tr th {\n",
       "        vertical-align: top;\n",
       "    }\n",
       "\n",
       "    .dataframe thead th {\n",
       "        text-align: right;\n",
       "    }\n",
       "</style>\n",
       "<table border=\"1\" class=\"dataframe\">\n",
       "  <thead>\n",
       "    <tr style=\"text-align: right;\">\n",
       "      <th></th>\n",
       "      <th>religion</th>\n",
       "      <th>sex</th>\n",
       "      <th>count</th>\n",
       "    </tr>\n",
       "  </thead>\n",
       "  <tbody>\n",
       "    <tr>\n",
       "      <th>0</th>\n",
       "      <td>no</td>\n",
       "      <td>male</td>\n",
       "      <td>2183</td>\n",
       "    </tr>\n",
       "    <tr>\n",
       "      <th>1</th>\n",
       "      <td>no</td>\n",
       "      <td>female</td>\n",
       "      <td>1861</td>\n",
       "    </tr>\n",
       "    <tr>\n",
       "      <th>2</th>\n",
       "      <td>yes</td>\n",
       "      <td>female</td>\n",
       "      <td>2115</td>\n",
       "    </tr>\n",
       "    <tr>\n",
       "      <th>3</th>\n",
       "      <td>yes</td>\n",
       "      <td>male</td>\n",
       "      <td>1720</td>\n",
       "    </tr>\n",
       "  </tbody>\n",
       "</table>\n",
       "</div>"
      ],
      "text/plain": [
       "  religion     sex  count\n",
       "0       no    male   2183\n",
       "1       no  female   1861\n",
       "2      yes  female   2115\n",
       "3      yes    male   1720"
      ]
     },
     "execution_count": 100,
     "metadata": {},
     "output_type": "execute_result"
    }
   ],
   "source": [
    "#다른 column도 뽑아낼수 있다. normalize = True 옵션을 줄수 있다.\n",
    "rel_div10 = welfare.query('marriage != \"etc\"')\\\n",
    "                    .groupby(['religion'], as_index = False)['ageg']\\\n",
    "                        .value_counts(normalize = True)\n",
    "\n",
    "rel_div11 = welfare.query('marriage != \"etc\"')\\\n",
    "                    .groupby(['religion'], as_index = False)['marriage']\\\n",
    "                        .value_counts()\n",
    "\n",
    "rel_div12 = welfare.query('marriage != \"etc\"')\\\n",
    "                    .groupby(['religion'], as_index = False)['sex']\\\n",
    "                        .value_counts()\n",
    "rel_div13 = welfare.query('marriage != \"etc\"')\\\n",
    "                    .groupby(['religion'], as_index = False)['marriage_type']\\\n",
    "                        .value_counts()\n",
    "rel_div12"
   ]
  },
  {
   "cell_type": "markdown",
   "id": "85f28171",
   "metadata": {},
   "source": [
    "2. 그래프 만들기"
   ]
  },
  {
   "cell_type": "code",
   "execution_count": 102,
   "id": "6fd2bdb8",
   "metadata": {},
   "outputs": [
    {
     "data": {
      "text/html": [
       "<div>\n",
       "<style scoped>\n",
       "    .dataframe tbody tr th:only-of-type {\n",
       "        vertical-align: middle;\n",
       "    }\n",
       "\n",
       "    .dataframe tbody tr th {\n",
       "        vertical-align: top;\n",
       "    }\n",
       "\n",
       "    .dataframe thead th {\n",
       "        text-align: right;\n",
       "    }\n",
       "</style>\n",
       "<table border=\"1\" class=\"dataframe\">\n",
       "  <thead>\n",
       "    <tr style=\"text-align: right;\">\n",
       "      <th></th>\n",
       "      <th>religion</th>\n",
       "      <th>marriage</th>\n",
       "      <th>proportion</th>\n",
       "    </tr>\n",
       "  </thead>\n",
       "  <tbody>\n",
       "    <tr>\n",
       "      <th>0</th>\n",
       "      <td>no</td>\n",
       "      <td>marriage</td>\n",
       "      <td>0.905045</td>\n",
       "    </tr>\n",
       "    <tr>\n",
       "      <th>1</th>\n",
       "      <td>no</td>\n",
       "      <td>divorce</td>\n",
       "      <td>0.094955</td>\n",
       "    </tr>\n",
       "    <tr>\n",
       "      <th>2</th>\n",
       "      <td>yes</td>\n",
       "      <td>marriage</td>\n",
       "      <td>0.920469</td>\n",
       "    </tr>\n",
       "    <tr>\n",
       "      <th>3</th>\n",
       "      <td>yes</td>\n",
       "      <td>divorce</td>\n",
       "      <td>0.079531</td>\n",
       "    </tr>\n",
       "  </tbody>\n",
       "</table>\n",
       "</div>"
      ],
      "text/plain": [
       "  religion  marriage  proportion\n",
       "0       no  marriage    0.905045\n",
       "1       no   divorce    0.094955\n",
       "2      yes  marriage    0.920469\n",
       "3      yes   divorce    0.079531"
      ]
     },
     "execution_count": 102,
     "metadata": {},
     "output_type": "execute_result"
    }
   ],
   "source": [
    "rel_div3"
   ]
  },
  {
   "cell_type": "code",
   "execution_count": 104,
   "id": "204bdc9d",
   "metadata": {},
   "outputs": [
    {
     "data": {
      "text/html": [
       "<div>\n",
       "<style scoped>\n",
       "    .dataframe tbody tr th:only-of-type {\n",
       "        vertical-align: middle;\n",
       "    }\n",
       "\n",
       "    .dataframe tbody tr th {\n",
       "        vertical-align: top;\n",
       "    }\n",
       "\n",
       "    .dataframe thead th {\n",
       "        text-align: right;\n",
       "    }\n",
       "</style>\n",
       "<table border=\"1\" class=\"dataframe\">\n",
       "  <thead>\n",
       "    <tr style=\"text-align: right;\">\n",
       "      <th></th>\n",
       "      <th>religion</th>\n",
       "      <th>marriage</th>\n",
       "      <th>proportion</th>\n",
       "    </tr>\n",
       "  </thead>\n",
       "  <tbody>\n",
       "    <tr>\n",
       "      <th>1</th>\n",
       "      <td>no</td>\n",
       "      <td>divorce</td>\n",
       "      <td>9.5</td>\n",
       "    </tr>\n",
       "    <tr>\n",
       "      <th>3</th>\n",
       "      <td>yes</td>\n",
       "      <td>divorce</td>\n",
       "      <td>8.0</td>\n",
       "    </tr>\n",
       "  </tbody>\n",
       "</table>\n",
       "</div>"
      ],
      "text/plain": [
       "  religion marriage  proportion\n",
       "1       no  divorce         9.5\n",
       "3      yes  divorce         8.0"
      ]
     },
     "execution_count": 104,
     "metadata": {},
     "output_type": "execute_result"
    }
   ],
   "source": [
    "rel_div = rel_div3.query('marriage == \"divorce\"') \\\n",
    "                .assign(proportion = rel_div3['proportion']*100) \\\n",
    "                .round(1)\n",
    "rel_div"
   ]
  },
  {
   "cell_type": "code",
   "execution_count": 106,
   "id": "f176e336",
   "metadata": {},
   "outputs": [
    {
     "data": {
      "text/plain": [
       "<Axes: xlabel='religion', ylabel='proportion'>"
      ]
     },
     "execution_count": 106,
     "metadata": {},
     "output_type": "execute_result"
    },
    {
     "data": {
      "image/png": "[encoded data removed]",
      "text/plain": [
       "<Figure size 640x480 with 1 Axes>"
      ]
     },
     "metadata": {},
     "output_type": "display_data"
    }
   ],
   "source": [
    "sns.barplot(data=rel_div, x='religion', y='proportion')"
   ]
  },
  {
   "cell_type": "markdown",
   "id": "7de83e5f",
   "metadata": {},
   "source": [
    "> 종교가 있는 경우 이혼율 8.0%, 종교가 없는 경우 이혼율 9.5% (의미 잇는 차이 인가 ?)"
   ]
  },
  {
   "cell_type": "markdown",
   "id": "5e99bc24",
   "metadata": {},
   "source": [
    "## Lab 8 : 연령대 및 종교 유무에 따른 이혼율 분석하기"
   ]
  },
  {
   "cell_type": "code",
   "execution_count": 108,
   "id": "b9f2e602",
   "metadata": {},
   "outputs": [
    {
     "data": {
      "text/html": [
       "<div>\n",
       "<style scoped>\n",
       "    .dataframe tbody tr th:only-of-type {\n",
       "        vertical-align: middle;\n",
       "    }\n",
       "\n",
       "    .dataframe tbody tr th {\n",
       "        vertical-align: top;\n",
       "    }\n",
       "\n",
       "    .dataframe thead th {\n",
       "        text-align: right;\n",
       "    }\n",
       "</style>\n",
       "<table border=\"1\" class=\"dataframe\">\n",
       "  <thead>\n",
       "    <tr style=\"text-align: right;\">\n",
       "      <th></th>\n",
       "      <th>ageg</th>\n",
       "      <th>marriage</th>\n",
       "      <th>count</th>\n",
       "    </tr>\n",
       "  </thead>\n",
       "  <tbody>\n",
       "    <tr>\n",
       "      <th>0</th>\n",
       "      <td>middle</td>\n",
       "      <td>marriage</td>\n",
       "      <td>3552</td>\n",
       "    </tr>\n",
       "    <tr>\n",
       "      <th>1</th>\n",
       "      <td>middle</td>\n",
       "      <td>divorce</td>\n",
       "      <td>350</td>\n",
       "    </tr>\n",
       "    <tr>\n",
       "      <th>2</th>\n",
       "      <td>old</td>\n",
       "      <td>marriage</td>\n",
       "      <td>3581</td>\n",
       "    </tr>\n",
       "    <tr>\n",
       "      <th>3</th>\n",
       "      <td>old</td>\n",
       "      <td>divorce</td>\n",
       "      <td>336</td>\n",
       "    </tr>\n",
       "    <tr>\n",
       "      <th>4</th>\n",
       "      <td>young</td>\n",
       "      <td>marriage</td>\n",
       "      <td>57</td>\n",
       "    </tr>\n",
       "    <tr>\n",
       "      <th>5</th>\n",
       "      <td>young</td>\n",
       "      <td>divorce</td>\n",
       "      <td>3</td>\n",
       "    </tr>\n",
       "  </tbody>\n",
       "</table>\n",
       "</div>"
      ],
      "text/plain": [
       "     ageg  marriage  count\n",
       "0  middle  marriage   3552\n",
       "1  middle   divorce    350\n",
       "2     old  marriage   3581\n",
       "3     old   divorce    336\n",
       "4   young  marriage     57\n",
       "5   young   divorce      3"
      ]
     },
     "execution_count": 108,
     "metadata": {},
     "output_type": "execute_result"
    }
   ],
   "source": [
    "welfare.query('marriage != \"etc\"') \\\n",
    "                .groupby('ageg', as_index=False) \\\n",
    "                ['marriage'] \\\n",
    "                .value_counts()"
   ]
  },
  {
   "cell_type": "markdown",
   "id": "0a13c95e",
   "metadata": {},
   "source": [
    "1. 연령대 별 이혼율 표 만들기"
   ]
  },
  {
   "cell_type": "code",
   "execution_count": 111,
   "id": "0591375e",
   "metadata": {},
   "outputs": [
    {
     "data": {
      "text/html": [
       "<div>\n",
       "<style scoped>\n",
       "    .dataframe tbody tr th:only-of-type {\n",
       "        vertical-align: middle;\n",
       "    }\n",
       "\n",
       "    .dataframe tbody tr th {\n",
       "        vertical-align: top;\n",
       "    }\n",
       "\n",
       "    .dataframe thead th {\n",
       "        text-align: right;\n",
       "    }\n",
       "</style>\n",
       "<table border=\"1\" class=\"dataframe\">\n",
       "  <thead>\n",
       "    <tr style=\"text-align: right;\">\n",
       "      <th></th>\n",
       "      <th>ageg</th>\n",
       "      <th>marriage</th>\n",
       "      <th>proportion</th>\n",
       "    </tr>\n",
       "  </thead>\n",
       "  <tbody>\n",
       "    <tr>\n",
       "      <th>0</th>\n",
       "      <td>middle</td>\n",
       "      <td>marriage</td>\n",
       "      <td>0.910302</td>\n",
       "    </tr>\n",
       "    <tr>\n",
       "      <th>1</th>\n",
       "      <td>middle</td>\n",
       "      <td>divorce</td>\n",
       "      <td>0.089698</td>\n",
       "    </tr>\n",
       "    <tr>\n",
       "      <th>2</th>\n",
       "      <td>old</td>\n",
       "      <td>marriage</td>\n",
       "      <td>0.914220</td>\n",
       "    </tr>\n",
       "    <tr>\n",
       "      <th>3</th>\n",
       "      <td>old</td>\n",
       "      <td>divorce</td>\n",
       "      <td>0.085780</td>\n",
       "    </tr>\n",
       "    <tr>\n",
       "      <th>4</th>\n",
       "      <td>young</td>\n",
       "      <td>marriage</td>\n",
       "      <td>0.950000</td>\n",
       "    </tr>\n",
       "    <tr>\n",
       "      <th>5</th>\n",
       "      <td>young</td>\n",
       "      <td>divorce</td>\n",
       "      <td>0.050000</td>\n",
       "    </tr>\n",
       "  </tbody>\n",
       "</table>\n",
       "</div>"
      ],
      "text/plain": [
       "     ageg  marriage  proportion\n",
       "0  middle  marriage    0.910302\n",
       "1  middle   divorce    0.089698\n",
       "2     old  marriage    0.914220\n",
       "3     old   divorce    0.085780\n",
       "4   young  marriage    0.950000\n",
       "5   young   divorce    0.050000"
      ]
     },
     "execution_count": 111,
     "metadata": {},
     "output_type": "execute_result"
    }
   ],
   "source": [
    "age_div = welfare.query('marriage != \"etc\"') \\\n",
    "                .groupby('ageg', as_index=False) \\\n",
    "                ['marriage'] \\\n",
    "                .value_counts(normalize = True)\n",
    "age_div"
   ]
  },
  {
   "cell_type": "markdown",
   "id": "4e77463a",
   "metadata": {},
   "source": [
    "> 초년층은 사례가 부족하여 분석 작업에서 제외"
   ]
  },
  {
   "cell_type": "markdown",
   "id": "976f9451",
   "metadata": {},
   "source": [
    "2. 연령대별 이혼율 그래프 그리기"
   ]
  },
  {
   "cell_type": "code",
   "execution_count": 115,
   "id": "775abb3c",
   "metadata": {},
   "outputs": [
    {
     "data": {
      "text/html": [
       "<div>\n",
       "<style scoped>\n",
       "    .dataframe tbody tr th:only-of-type {\n",
       "        vertical-align: middle;\n",
       "    }\n",
       "\n",
       "    .dataframe tbody tr th {\n",
       "        vertical-align: top;\n",
       "    }\n",
       "\n",
       "    .dataframe thead th {\n",
       "        text-align: right;\n",
       "    }\n",
       "</style>\n",
       "<table border=\"1\" class=\"dataframe\">\n",
       "  <thead>\n",
       "    <tr style=\"text-align: right;\">\n",
       "      <th></th>\n",
       "      <th>ageg</th>\n",
       "      <th>marriage</th>\n",
       "      <th>proportion</th>\n",
       "    </tr>\n",
       "  </thead>\n",
       "  <tbody>\n",
       "    <tr>\n",
       "      <th>1</th>\n",
       "      <td>middle</td>\n",
       "      <td>divorce</td>\n",
       "      <td>9.0</td>\n",
       "    </tr>\n",
       "    <tr>\n",
       "      <th>3</th>\n",
       "      <td>old</td>\n",
       "      <td>divorce</td>\n",
       "      <td>8.6</td>\n",
       "    </tr>\n",
       "  </tbody>\n",
       "</table>\n",
       "</div>"
      ],
      "text/plain": [
       "     ageg marriage  proportion\n",
       "1  middle  divorce         9.0\n",
       "3     old  divorce         8.6"
      ]
     },
     "execution_count": 115,
     "metadata": {},
     "output_type": "execute_result"
    }
   ],
   "source": [
    "age_div = age_div.query('ageg != \"young\" & marriage == \"divorce\"')\\\n",
    "                    .assign(proportion = age_div['proportion'] * 100)\\\n",
    "                    .round(1)\n",
    "age_div"
   ]
  },
  {
   "cell_type": "code",
   "execution_count": 117,
   "id": "f6b0e205",
   "metadata": {},
   "outputs": [
    {
     "data": {
      "text/plain": [
       "<Axes: xlabel='ageg', ylabel='proportion'>"
      ]
     },
     "execution_count": 117,
     "metadata": {},
     "output_type": "execute_result"
    },
    {
     "data": {
      "image/png": "[encoded data removed]",
      "text/plain": [
       "<Figure size 640x480 with 1 Axes>"
      ]
     },
     "metadata": {},
     "output_type": "display_data"
    }
   ],
   "source": [
    "# 막대 그래프 만들기\n",
    "sns.barplot(data=age_div, x='ageg', y='proportion')"
   ]
  },
  {
   "cell_type": "markdown",
   "id": "9c9fdbba",
   "metadata": {},
   "source": [
    "3. 연령대 및 종교 유무에 따른 이혼율표 만들기\n",
    "- 분석에서 초년층 제외"
   ]
  },
  {
   "cell_type": "code",
   "execution_count": 120,
   "id": "99fb0037",
   "metadata": {},
   "outputs": [
    {
     "data": {
      "text/html": [
       "<div>\n",
       "<style scoped>\n",
       "    .dataframe tbody tr th:only-of-type {\n",
       "        vertical-align: middle;\n",
       "    }\n",
       "\n",
       "    .dataframe tbody tr th {\n",
       "        vertical-align: top;\n",
       "    }\n",
       "\n",
       "    .dataframe thead th {\n",
       "        text-align: right;\n",
       "    }\n",
       "</style>\n",
       "<table border=\"1\" class=\"dataframe\">\n",
       "  <thead>\n",
       "    <tr style=\"text-align: right;\">\n",
       "      <th></th>\n",
       "      <th>ageg</th>\n",
       "      <th>religion</th>\n",
       "      <th>marriage</th>\n",
       "      <th>proportion</th>\n",
       "    </tr>\n",
       "  </thead>\n",
       "  <tbody>\n",
       "    <tr>\n",
       "      <th>0</th>\n",
       "      <td>middle</td>\n",
       "      <td>no</td>\n",
       "      <td>marriage</td>\n",
       "      <td>0.904953</td>\n",
       "    </tr>\n",
       "    <tr>\n",
       "      <th>1</th>\n",
       "      <td>middle</td>\n",
       "      <td>no</td>\n",
       "      <td>divorce</td>\n",
       "      <td>0.095047</td>\n",
       "    </tr>\n",
       "    <tr>\n",
       "      <th>2</th>\n",
       "      <td>middle</td>\n",
       "      <td>yes</td>\n",
       "      <td>marriage</td>\n",
       "      <td>0.917520</td>\n",
       "    </tr>\n",
       "    <tr>\n",
       "      <th>3</th>\n",
       "      <td>middle</td>\n",
       "      <td>yes</td>\n",
       "      <td>divorce</td>\n",
       "      <td>0.082480</td>\n",
       "    </tr>\n",
       "    <tr>\n",
       "      <th>4</th>\n",
       "      <td>old</td>\n",
       "      <td>no</td>\n",
       "      <td>marriage</td>\n",
       "      <td>0.904382</td>\n",
       "    </tr>\n",
       "    <tr>\n",
       "      <th>5</th>\n",
       "      <td>old</td>\n",
       "      <td>no</td>\n",
       "      <td>divorce</td>\n",
       "      <td>0.095618</td>\n",
       "    </tr>\n",
       "    <tr>\n",
       "      <th>6</th>\n",
       "      <td>old</td>\n",
       "      <td>yes</td>\n",
       "      <td>marriage</td>\n",
       "      <td>0.922222</td>\n",
       "    </tr>\n",
       "    <tr>\n",
       "      <th>7</th>\n",
       "      <td>old</td>\n",
       "      <td>yes</td>\n",
       "      <td>divorce</td>\n",
       "      <td>0.077778</td>\n",
       "    </tr>\n",
       "  </tbody>\n",
       "</table>\n",
       "</div>"
      ],
      "text/plain": [
       "     ageg religion  marriage  proportion\n",
       "0  middle       no  marriage    0.904953\n",
       "1  middle       no   divorce    0.095047\n",
       "2  middle      yes  marriage    0.917520\n",
       "3  middle      yes   divorce    0.082480\n",
       "4     old       no  marriage    0.904382\n",
       "5     old       no   divorce    0.095618\n",
       "6     old      yes  marriage    0.922222\n",
       "7     old      yes   divorce    0.077778"
      ]
     },
     "execution_count": 120,
     "metadata": {},
     "output_type": "execute_result"
    }
   ],
   "source": [
    "age_rel_div = welfare.query('marriage != \"etc\" & ageg != \"young\"') \\\n",
    "                    .groupby(['ageg', 'religion'], as_index=False) \\\n",
    "                    ['marriage'] \\\n",
    "                    .value_counts(normalize=True)\n",
    "age_rel_div"
   ]
  },
  {
   "cell_type": "markdown",
   "id": "03f2dea0",
   "metadata": {},
   "source": [
    "4. 연령대 및 종교 유무에 따른 이혼율 그래프 만들기"
   ]
  },
  {
   "cell_type": "code",
   "execution_count": 123,
   "id": "35961517",
   "metadata": {},
   "outputs": [
    {
     "data": {
      "text/html": [
       "<div>\n",
       "<style scoped>\n",
       "    .dataframe tbody tr th:only-of-type {\n",
       "        vertical-align: middle;\n",
       "    }\n",
       "\n",
       "    .dataframe tbody tr th {\n",
       "        vertical-align: top;\n",
       "    }\n",
       "\n",
       "    .dataframe thead th {\n",
       "        text-align: right;\n",
       "    }\n",
       "</style>\n",
       "<table border=\"1\" class=\"dataframe\">\n",
       "  <thead>\n",
       "    <tr style=\"text-align: right;\">\n",
       "      <th></th>\n",
       "      <th>ageg</th>\n",
       "      <th>religion</th>\n",
       "      <th>marriage</th>\n",
       "      <th>proportion</th>\n",
       "    </tr>\n",
       "  </thead>\n",
       "  <tbody>\n",
       "    <tr>\n",
       "      <th>1</th>\n",
       "      <td>middle</td>\n",
       "      <td>no</td>\n",
       "      <td>divorce</td>\n",
       "      <td>9.5</td>\n",
       "    </tr>\n",
       "    <tr>\n",
       "      <th>3</th>\n",
       "      <td>middle</td>\n",
       "      <td>yes</td>\n",
       "      <td>divorce</td>\n",
       "      <td>8.2</td>\n",
       "    </tr>\n",
       "    <tr>\n",
       "      <th>5</th>\n",
       "      <td>old</td>\n",
       "      <td>no</td>\n",
       "      <td>divorce</td>\n",
       "      <td>9.6</td>\n",
       "    </tr>\n",
       "    <tr>\n",
       "      <th>7</th>\n",
       "      <td>old</td>\n",
       "      <td>yes</td>\n",
       "      <td>divorce</td>\n",
       "      <td>7.8</td>\n",
       "    </tr>\n",
       "  </tbody>\n",
       "</table>\n",
       "</div>"
      ],
      "text/plain": [
       "     ageg religion marriage  proportion\n",
       "1  middle       no  divorce         9.5\n",
       "3  middle      yes  divorce         8.2\n",
       "5     old       no  divorce         9.6\n",
       "7     old      yes  divorce         7.8"
      ]
     },
     "execution_count": 123,
     "metadata": {},
     "output_type": "execute_result"
    }
   ],
   "source": [
    "age_rel_div = \\\n",
    "    age_rel_div.query('marriage == \"divorce\"') \\\n",
    "                .assign(proportion = age_rel_div['proportion']*100) \\\n",
    "                .round(1)\n",
    "age_rel_div"
   ]
  },
  {
   "cell_type": "code",
   "execution_count": 125,
   "id": "52e13b10",
   "metadata": {},
   "outputs": [
    {
     "data": {
      "text/plain": [
       "<Axes: xlabel='ageg', ylabel='proportion'>"
      ]
     },
     "execution_count": 125,
     "metadata": {},
     "output_type": "execute_result"
    },
    {
     "data": {
      "image/png": "[encoded data removed]",
      "text/plain": [
       "<Figure size 640x480 with 1 Axes>"
      ]
     },
     "metadata": {},
     "output_type": "display_data"
    }
   ],
   "source": [
    "# 막대 그래프 그리기\n",
    "sns.barplot(data=age_rel_div, x='ageg', y='proportion', hue='religion')"
   ]
  },
  {
   "cell_type": "markdown",
   "id": "fcb399c7",
   "metadata": {},
   "source": [
    "# 9-9 지역별 연령대 비율 - 어느 지역에 노년층이 많을까?\n",
    "> ## Lab 9 : 지역변수 검토 및 전처리\n",
    "> ## Lab 10 : 지역별 연령대 비율 분석하기"
   ]
  },
  {
   "cell_type": "markdown",
   "id": "880bc828",
   "metadata": {},
   "source": [
    "## Lab 9 : 지역변수 검토 및 전처리"
   ]
  },
  {
   "cell_type": "markdown",
   "id": "713e4b24",
   "metadata": {},
   "source": [
    "1. 변수 검토하기"
   ]
  },
  {
   "cell_type": "code",
   "execution_count": 130,
   "id": "c429cb68",
   "metadata": {},
   "outputs": [
    {
     "data": {
      "text/plain": [
       "dtype('float64')"
      ]
     },
     "execution_count": 130,
     "metadata": {},
     "output_type": "execute_result"
    }
   ],
   "source": [
    "welfare['code_region'].dtypes"
   ]
  },
  {
   "cell_type": "code",
   "execution_count": 131,
   "id": "676c7226",
   "metadata": {},
   "outputs": [
    {
     "data": {
      "text/plain": [
       "code_region\n",
       "2.0    3246\n",
       "7.0    2466\n",
       "3.0    2448\n",
       "1.0    2002\n",
       "4.0    1728\n",
       "5.0    1391\n",
       "6.0    1137\n",
       "Name: count, dtype: int64"
      ]
     },
     "execution_count": 131,
     "metadata": {},
     "output_type": "execute_result"
    }
   ],
   "source": [
    "welfare['code_region'].value_counts()"
   ]
  },
  {
   "cell_type": "markdown",
   "id": "e63437ae",
   "metadata": {},
   "source": [
    "|    값  |     내용     |\n",
    "| ---    | -----        |\n",
    "|1       |서울   |\n",
    "|2       | 수도권(인천, 경기)  |\n",
    "|3       | 부산/경남/울산   |\n",
    "|4       | 대구/경북    |\n",
    "|5       | 대전/충남    |\n",
    "|6       | 강원/충북    |\n",
    "|7       | 광주/전남/전북/제주도    |"
   ]
  },
  {
   "cell_type": "markdown",
   "id": "5f35ecef",
   "metadata": {},
   "source": [
    "2. 전처리 하기"
   ]
  },
  {
   "cell_type": "code",
   "execution_count": 136,
   "id": "851eb87a",
   "metadata": {},
   "outputs": [
    {
     "data": {
      "text/html": [
       "<div>\n",
       "<style scoped>\n",
       "    .dataframe tbody tr th:only-of-type {\n",
       "        vertical-align: middle;\n",
       "    }\n",
       "\n",
       "    .dataframe tbody tr th {\n",
       "        vertical-align: top;\n",
       "    }\n",
       "\n",
       "    .dataframe thead th {\n",
       "        text-align: right;\n",
       "    }\n",
       "</style>\n",
       "<table border=\"1\" class=\"dataframe\">\n",
       "  <thead>\n",
       "    <tr style=\"text-align: right;\">\n",
       "      <th></th>\n",
       "      <th>code_region</th>\n",
       "      <th>region</th>\n",
       "    </tr>\n",
       "  </thead>\n",
       "  <tbody>\n",
       "    <tr>\n",
       "      <th>0</th>\n",
       "      <td>1</td>\n",
       "      <td>서울</td>\n",
       "    </tr>\n",
       "    <tr>\n",
       "      <th>1</th>\n",
       "      <td>2</td>\n",
       "      <td>수도권(인천,경기)</td>\n",
       "    </tr>\n",
       "    <tr>\n",
       "      <th>2</th>\n",
       "      <td>3</td>\n",
       "      <td>부산/경남/울산</td>\n",
       "    </tr>\n",
       "    <tr>\n",
       "      <th>3</th>\n",
       "      <td>4</td>\n",
       "      <td>대구/경북</td>\n",
       "    </tr>\n",
       "    <tr>\n",
       "      <th>4</th>\n",
       "      <td>5</td>\n",
       "      <td>대전/충남</td>\n",
       "    </tr>\n",
       "    <tr>\n",
       "      <th>5</th>\n",
       "      <td>6</td>\n",
       "      <td>강원/충북</td>\n",
       "    </tr>\n",
       "    <tr>\n",
       "      <th>6</th>\n",
       "      <td>7</td>\n",
       "      <td>광주/전남/전북/제주도</td>\n",
       "    </tr>\n",
       "  </tbody>\n",
       "</table>\n",
       "</div>"
      ],
      "text/plain": [
       "   code_region        region\n",
       "0            1            서울\n",
       "1            2    수도권(인천,경기)\n",
       "2            3      부산/경남/울산\n",
       "3            4         대구/경북\n",
       "4            5         대전/충남\n",
       "5            6         강원/충북\n",
       "6            7  광주/전남/전북/제주도"
      ]
     },
     "execution_count": 136,
     "metadata": {},
     "output_type": "execute_result"
    }
   ],
   "source": [
    "# 지역 코드 목록 만들기\n",
    "list_region = pd.DataFrame({'code_region' : [1, 2, 3, 4, 5, 6, 7],\n",
    "                             'region' : ['서울',\n",
    "                                         '수도권(인천,경기)',\n",
    "                                         '부산/경남/울산',\n",
    "                                          '대구/경북',\n",
    "                                          '대전/충남',\n",
    "                                           '강원/충북',\n",
    "                                           '광주/전남/전북/제주도']})\n",
    "list_region"
   ]
  },
  {
   "cell_type": "code",
   "execution_count": 137,
   "id": "bfce0e56",
   "metadata": {},
   "outputs": [
    {
     "data": {
      "text/html": [
       "<div>\n",
       "<style scoped>\n",
       "    .dataframe tbody tr th:only-of-type {\n",
       "        vertical-align: middle;\n",
       "    }\n",
       "\n",
       "    .dataframe tbody tr th {\n",
       "        vertical-align: top;\n",
       "    }\n",
       "\n",
       "    .dataframe thead th {\n",
       "        text-align: right;\n",
       "    }\n",
       "</style>\n",
       "<table border=\"1\" class=\"dataframe\">\n",
       "  <thead>\n",
       "    <tr style=\"text-align: right;\">\n",
       "      <th></th>\n",
       "      <th>code_region</th>\n",
       "      <th>region</th>\n",
       "    </tr>\n",
       "  </thead>\n",
       "  <tbody>\n",
       "    <tr>\n",
       "      <th>0</th>\n",
       "      <td>1.0</td>\n",
       "      <td>서울</td>\n",
       "    </tr>\n",
       "    <tr>\n",
       "      <th>1</th>\n",
       "      <td>1.0</td>\n",
       "      <td>서울</td>\n",
       "    </tr>\n",
       "    <tr>\n",
       "      <th>2</th>\n",
       "      <td>1.0</td>\n",
       "      <td>서울</td>\n",
       "    </tr>\n",
       "    <tr>\n",
       "      <th>3</th>\n",
       "      <td>1.0</td>\n",
       "      <td>서울</td>\n",
       "    </tr>\n",
       "    <tr>\n",
       "      <th>4</th>\n",
       "      <td>1.0</td>\n",
       "      <td>서울</td>\n",
       "    </tr>\n",
       "  </tbody>\n",
       "</table>\n",
       "</div>"
      ],
      "text/plain": [
       "   code_region region\n",
       "0          1.0     서울\n",
       "1          1.0     서울\n",
       "2          1.0     서울\n",
       "3          1.0     서울\n",
       "4          1.0     서울"
      ]
     },
     "execution_count": 137,
     "metadata": {},
     "output_type": "execute_result"
    }
   ],
   "source": [
    "# 지역명 추가\n",
    "welfare = welfare.merge(list_region, how='left', on='code_region')\n",
    "welfare[['code_region', 'region']].head()"
   ]
  },
  {
   "cell_type": "markdown",
   "id": "4f961b74",
   "metadata": {},
   "source": [
    "## Lab 10 : 지역별 연령대 비율 분석하기"
   ]
  },
  {
   "cell_type": "markdown",
   "id": "d705786f",
   "metadata": {},
   "source": [
    "1. 지역별 연령대 비율표 만들기"
   ]
  },
  {
   "cell_type": "code",
   "execution_count": 141,
   "id": "97f5ff6b",
   "metadata": {},
   "outputs": [
    {
     "data": {
      "text/html": [
       "<div>\n",
       "<style scoped>\n",
       "    .dataframe tbody tr th:only-of-type {\n",
       "        vertical-align: middle;\n",
       "    }\n",
       "\n",
       "    .dataframe tbody tr th {\n",
       "        vertical-align: top;\n",
       "    }\n",
       "\n",
       "    .dataframe thead th {\n",
       "        text-align: right;\n",
       "    }\n",
       "</style>\n",
       "<table border=\"1\" class=\"dataframe\">\n",
       "  <thead>\n",
       "    <tr style=\"text-align: right;\">\n",
       "      <th></th>\n",
       "      <th>region</th>\n",
       "      <th>ageg</th>\n",
       "      <th>proportion</th>\n",
       "    </tr>\n",
       "  </thead>\n",
       "  <tbody>\n",
       "    <tr>\n",
       "      <th>0</th>\n",
       "      <td>강원/충북</td>\n",
       "      <td>old</td>\n",
       "      <td>0.459103</td>\n",
       "    </tr>\n",
       "    <tr>\n",
       "      <th>1</th>\n",
       "      <td>강원/충북</td>\n",
       "      <td>middle</td>\n",
       "      <td>0.308707</td>\n",
       "    </tr>\n",
       "    <tr>\n",
       "      <th>2</th>\n",
       "      <td>강원/충북</td>\n",
       "      <td>young</td>\n",
       "      <td>0.232190</td>\n",
       "    </tr>\n",
       "    <tr>\n",
       "      <th>3</th>\n",
       "      <td>광주/전남/전북/제주도</td>\n",
       "      <td>old</td>\n",
       "      <td>0.449311</td>\n",
       "    </tr>\n",
       "    <tr>\n",
       "      <th>4</th>\n",
       "      <td>광주/전남/전북/제주도</td>\n",
       "      <td>middle</td>\n",
       "      <td>0.317924</td>\n",
       "    </tr>\n",
       "    <tr>\n",
       "      <th>5</th>\n",
       "      <td>광주/전남/전북/제주도</td>\n",
       "      <td>young</td>\n",
       "      <td>0.232766</td>\n",
       "    </tr>\n",
       "    <tr>\n",
       "      <th>6</th>\n",
       "      <td>대구/경북</td>\n",
       "      <td>old</td>\n",
       "      <td>0.504051</td>\n",
       "    </tr>\n",
       "    <tr>\n",
       "      <th>7</th>\n",
       "      <td>대구/경북</td>\n",
       "      <td>middle</td>\n",
       "      <td>0.296296</td>\n",
       "    </tr>\n",
       "    <tr>\n",
       "      <th>8</th>\n",
       "      <td>대구/경북</td>\n",
       "      <td>young</td>\n",
       "      <td>0.199653</td>\n",
       "    </tr>\n",
       "    <tr>\n",
       "      <th>9</th>\n",
       "      <td>대전/충남</td>\n",
       "      <td>old</td>\n",
       "      <td>0.413372</td>\n",
       "    </tr>\n",
       "    <tr>\n",
       "      <th>10</th>\n",
       "      <td>대전/충남</td>\n",
       "      <td>middle</td>\n",
       "      <td>0.336449</td>\n",
       "    </tr>\n",
       "    <tr>\n",
       "      <th>11</th>\n",
       "      <td>대전/충남</td>\n",
       "      <td>young</td>\n",
       "      <td>0.250180</td>\n",
       "    </tr>\n",
       "    <tr>\n",
       "      <th>12</th>\n",
       "      <td>부산/경남/울산</td>\n",
       "      <td>old</td>\n",
       "      <td>0.437500</td>\n",
       "    </tr>\n",
       "    <tr>\n",
       "      <th>13</th>\n",
       "      <td>부산/경남/울산</td>\n",
       "      <td>middle</td>\n",
       "      <td>0.333742</td>\n",
       "    </tr>\n",
       "    <tr>\n",
       "      <th>14</th>\n",
       "      <td>부산/경남/울산</td>\n",
       "      <td>young</td>\n",
       "      <td>0.228758</td>\n",
       "    </tr>\n",
       "    <tr>\n",
       "      <th>15</th>\n",
       "      <td>서울</td>\n",
       "      <td>middle</td>\n",
       "      <td>0.385115</td>\n",
       "    </tr>\n",
       "    <tr>\n",
       "      <th>16</th>\n",
       "      <td>서울</td>\n",
       "      <td>old</td>\n",
       "      <td>0.376124</td>\n",
       "    </tr>\n",
       "    <tr>\n",
       "      <th>17</th>\n",
       "      <td>서울</td>\n",
       "      <td>young</td>\n",
       "      <td>0.238761</td>\n",
       "    </tr>\n",
       "    <tr>\n",
       "      <th>18</th>\n",
       "      <td>수도권(인천,경기)</td>\n",
       "      <td>middle</td>\n",
       "      <td>0.388170</td>\n",
       "    </tr>\n",
       "    <tr>\n",
       "      <th>19</th>\n",
       "      <td>수도권(인천,경기)</td>\n",
       "      <td>old</td>\n",
       "      <td>0.325015</td>\n",
       "    </tr>\n",
       "    <tr>\n",
       "      <th>20</th>\n",
       "      <td>수도권(인천,경기)</td>\n",
       "      <td>young</td>\n",
       "      <td>0.286815</td>\n",
       "    </tr>\n",
       "  </tbody>\n",
       "</table>\n",
       "</div>"
      ],
      "text/plain": [
       "          region    ageg  proportion\n",
       "0          강원/충북     old    0.459103\n",
       "1          강원/충북  middle    0.308707\n",
       "2          강원/충북   young    0.232190\n",
       "3   광주/전남/전북/제주도     old    0.449311\n",
       "4   광주/전남/전북/제주도  middle    0.317924\n",
       "5   광주/전남/전북/제주도   young    0.232766\n",
       "6          대구/경북     old    0.504051\n",
       "7          대구/경북  middle    0.296296\n",
       "8          대구/경북   young    0.199653\n",
       "9          대전/충남     old    0.413372\n",
       "10         대전/충남  middle    0.336449\n",
       "11         대전/충남   young    0.250180\n",
       "12      부산/경남/울산     old    0.437500\n",
       "13      부산/경남/울산  middle    0.333742\n",
       "14      부산/경남/울산   young    0.228758\n",
       "15            서울  middle    0.385115\n",
       "16            서울     old    0.376124\n",
       "17            서울   young    0.238761\n",
       "18    수도권(인천,경기)  middle    0.388170\n",
       "19    수도권(인천,경기)     old    0.325015\n",
       "20    수도권(인천,경기)   young    0.286815"
      ]
     },
     "execution_count": 141,
     "metadata": {},
     "output_type": "execute_result"
    }
   ],
   "source": [
    "region_ageg = welfare.groupby('region', as_index=False) \\\n",
    "                    ['ageg'] \\\n",
    "                    .value_counts(normalize=True)\n",
    "region_ageg"
   ]
  },
  {
   "cell_type": "markdown",
   "id": "f4ea4132",
   "metadata": {},
   "source": [
    "2. 그래프 만들기"
   ]
  },
  {
   "cell_type": "code",
   "execution_count": 144,
   "id": "5b4e7a97",
   "metadata": {},
   "outputs": [
    {
     "data": {
      "text/html": [
       "<div>\n",
       "<style scoped>\n",
       "    .dataframe tbody tr th:only-of-type {\n",
       "        vertical-align: middle;\n",
       "    }\n",
       "\n",
       "    .dataframe tbody tr th {\n",
       "        vertical-align: top;\n",
       "    }\n",
       "\n",
       "    .dataframe thead th {\n",
       "        text-align: right;\n",
       "    }\n",
       "</style>\n",
       "<table border=\"1\" class=\"dataframe\">\n",
       "  <thead>\n",
       "    <tr style=\"text-align: right;\">\n",
       "      <th></th>\n",
       "      <th>region</th>\n",
       "      <th>ageg</th>\n",
       "      <th>proportion</th>\n",
       "    </tr>\n",
       "  </thead>\n",
       "  <tbody>\n",
       "    <tr>\n",
       "      <th>0</th>\n",
       "      <td>강원/충북</td>\n",
       "      <td>old</td>\n",
       "      <td>45.9</td>\n",
       "    </tr>\n",
       "    <tr>\n",
       "      <th>1</th>\n",
       "      <td>강원/충북</td>\n",
       "      <td>middle</td>\n",
       "      <td>30.9</td>\n",
       "    </tr>\n",
       "    <tr>\n",
       "      <th>2</th>\n",
       "      <td>강원/충북</td>\n",
       "      <td>young</td>\n",
       "      <td>23.2</td>\n",
       "    </tr>\n",
       "    <tr>\n",
       "      <th>3</th>\n",
       "      <td>광주/전남/전북/제주도</td>\n",
       "      <td>old</td>\n",
       "      <td>44.9</td>\n",
       "    </tr>\n",
       "    <tr>\n",
       "      <th>4</th>\n",
       "      <td>광주/전남/전북/제주도</td>\n",
       "      <td>middle</td>\n",
       "      <td>31.8</td>\n",
       "    </tr>\n",
       "    <tr>\n",
       "      <th>5</th>\n",
       "      <td>광주/전남/전북/제주도</td>\n",
       "      <td>young</td>\n",
       "      <td>23.3</td>\n",
       "    </tr>\n",
       "    <tr>\n",
       "      <th>6</th>\n",
       "      <td>대구/경북</td>\n",
       "      <td>old</td>\n",
       "      <td>50.4</td>\n",
       "    </tr>\n",
       "    <tr>\n",
       "      <th>7</th>\n",
       "      <td>대구/경북</td>\n",
       "      <td>middle</td>\n",
       "      <td>29.6</td>\n",
       "    </tr>\n",
       "    <tr>\n",
       "      <th>8</th>\n",
       "      <td>대구/경북</td>\n",
       "      <td>young</td>\n",
       "      <td>20.0</td>\n",
       "    </tr>\n",
       "    <tr>\n",
       "      <th>9</th>\n",
       "      <td>대전/충남</td>\n",
       "      <td>old</td>\n",
       "      <td>41.3</td>\n",
       "    </tr>\n",
       "    <tr>\n",
       "      <th>10</th>\n",
       "      <td>대전/충남</td>\n",
       "      <td>middle</td>\n",
       "      <td>33.6</td>\n",
       "    </tr>\n",
       "    <tr>\n",
       "      <th>11</th>\n",
       "      <td>대전/충남</td>\n",
       "      <td>young</td>\n",
       "      <td>25.0</td>\n",
       "    </tr>\n",
       "    <tr>\n",
       "      <th>12</th>\n",
       "      <td>부산/경남/울산</td>\n",
       "      <td>old</td>\n",
       "      <td>43.8</td>\n",
       "    </tr>\n",
       "    <tr>\n",
       "      <th>13</th>\n",
       "      <td>부산/경남/울산</td>\n",
       "      <td>middle</td>\n",
       "      <td>33.4</td>\n",
       "    </tr>\n",
       "    <tr>\n",
       "      <th>14</th>\n",
       "      <td>부산/경남/울산</td>\n",
       "      <td>young</td>\n",
       "      <td>22.9</td>\n",
       "    </tr>\n",
       "    <tr>\n",
       "      <th>15</th>\n",
       "      <td>서울</td>\n",
       "      <td>middle</td>\n",
       "      <td>38.5</td>\n",
       "    </tr>\n",
       "    <tr>\n",
       "      <th>16</th>\n",
       "      <td>서울</td>\n",
       "      <td>old</td>\n",
       "      <td>37.6</td>\n",
       "    </tr>\n",
       "    <tr>\n",
       "      <th>17</th>\n",
       "      <td>서울</td>\n",
       "      <td>young</td>\n",
       "      <td>23.9</td>\n",
       "    </tr>\n",
       "    <tr>\n",
       "      <th>18</th>\n",
       "      <td>수도권(인천,경기)</td>\n",
       "      <td>middle</td>\n",
       "      <td>38.8</td>\n",
       "    </tr>\n",
       "    <tr>\n",
       "      <th>19</th>\n",
       "      <td>수도권(인천,경기)</td>\n",
       "      <td>old</td>\n",
       "      <td>32.5</td>\n",
       "    </tr>\n",
       "    <tr>\n",
       "      <th>20</th>\n",
       "      <td>수도권(인천,경기)</td>\n",
       "      <td>young</td>\n",
       "      <td>28.7</td>\n",
       "    </tr>\n",
       "  </tbody>\n",
       "</table>\n",
       "</div>"
      ],
      "text/plain": [
       "          region    ageg  proportion\n",
       "0          강원/충북     old        45.9\n",
       "1          강원/충북  middle        30.9\n",
       "2          강원/충북   young        23.2\n",
       "3   광주/전남/전북/제주도     old        44.9\n",
       "4   광주/전남/전북/제주도  middle        31.8\n",
       "5   광주/전남/전북/제주도   young        23.3\n",
       "6          대구/경북     old        50.4\n",
       "7          대구/경북  middle        29.6\n",
       "8          대구/경북   young        20.0\n",
       "9          대전/충남     old        41.3\n",
       "10         대전/충남  middle        33.6\n",
       "11         대전/충남   young        25.0\n",
       "12      부산/경남/울산     old        43.8\n",
       "13      부산/경남/울산  middle        33.4\n",
       "14      부산/경남/울산   young        22.9\n",
       "15            서울  middle        38.5\n",
       "16            서울     old        37.6\n",
       "17            서울   young        23.9\n",
       "18    수도권(인천,경기)  middle        38.8\n",
       "19    수도권(인천,경기)     old        32.5\n",
       "20    수도권(인천,경기)   young        28.7"
      ]
     },
     "execution_count": 144,
     "metadata": {},
     "output_type": "execute_result"
    }
   ],
   "source": [
    "region_ageg = \\\n",
    "  region_ageg.assign(proportion = region_ageg['proportion'] * 100) \\\n",
    "            .round(1)\n",
    "region_ageg"
   ]
  },
  {
   "cell_type": "code",
   "execution_count": 145,
   "id": "978ec8d7",
   "metadata": {},
   "outputs": [
    {
     "data": {
      "text/plain": [
       "<Axes: xlabel='proportion', ylabel='region'>"
      ]
     },
     "execution_count": 145,
     "metadata": {},
     "output_type": "execute_result"
    },
    {
     "data": {
      "image/png": "[encoded data removed]",
      "text/plain": [
       "<Figure size 640x480 with 1 Axes>"
      ]
     },
     "metadata": {},
     "output_type": "display_data"
    }
   ],
   "source": [
    "# 막대 그래프 만들기\n",
    "sns.barplot(data=region_ageg, y='region', x='proportion', hue='ageg')"
   ]
  },
  {
   "cell_type": "markdown",
   "id": "095b8f93",
   "metadata": {},
   "source": [
    "3. 누적 막대그래프 만들기"
   ]
  },
  {
   "cell_type": "markdown",
   "id": "5c865f38",
   "metadata": {},
   "source": [
    "> (1) 피벗하기\n",
    ">>    - index :  'region' 컬럼의 유일한 값들을 index로 변경한다. (서울, 수도권, 강원, 경북, 전남 등등 )\n",
    ">>    - columns : 'ageg' 컬럼의 유일한 값들을 column으로 변경한다. (young, middle, old)\n",
    ">>    - values : 'proportion' 컬럼의 값들을 실제 값에 넣어준다."
   ]
  },
  {
   "cell_type": "code",
   "execution_count": 150,
   "id": "827891a4",
   "metadata": {},
   "outputs": [
    {
     "data": {
      "text/html": [
       "<div>\n",
       "<style scoped>\n",
       "    .dataframe tbody tr th:only-of-type {\n",
       "        vertical-align: middle;\n",
       "    }\n",
       "\n",
       "    .dataframe tbody tr th {\n",
       "        vertical-align: top;\n",
       "    }\n",
       "\n",
       "    .dataframe thead th {\n",
       "        text-align: right;\n",
       "    }\n",
       "</style>\n",
       "<table border=\"1\" class=\"dataframe\">\n",
       "  <thead>\n",
       "    <tr style=\"text-align: right;\">\n",
       "      <th></th>\n",
       "      <th>region</th>\n",
       "      <th>ageg</th>\n",
       "      <th>proportion</th>\n",
       "    </tr>\n",
       "  </thead>\n",
       "  <tbody>\n",
       "    <tr>\n",
       "      <th>0</th>\n",
       "      <td>강원/충북</td>\n",
       "      <td>old</td>\n",
       "      <td>45.9</td>\n",
       "    </tr>\n",
       "    <tr>\n",
       "      <th>1</th>\n",
       "      <td>강원/충북</td>\n",
       "      <td>middle</td>\n",
       "      <td>30.9</td>\n",
       "    </tr>\n",
       "    <tr>\n",
       "      <th>2</th>\n",
       "      <td>강원/충북</td>\n",
       "      <td>young</td>\n",
       "      <td>23.2</td>\n",
       "    </tr>\n",
       "    <tr>\n",
       "      <th>3</th>\n",
       "      <td>광주/전남/전북/제주도</td>\n",
       "      <td>old</td>\n",
       "      <td>44.9</td>\n",
       "    </tr>\n",
       "    <tr>\n",
       "      <th>4</th>\n",
       "      <td>광주/전남/전북/제주도</td>\n",
       "      <td>middle</td>\n",
       "      <td>31.8</td>\n",
       "    </tr>\n",
       "    <tr>\n",
       "      <th>5</th>\n",
       "      <td>광주/전남/전북/제주도</td>\n",
       "      <td>young</td>\n",
       "      <td>23.3</td>\n",
       "    </tr>\n",
       "    <tr>\n",
       "      <th>6</th>\n",
       "      <td>대구/경북</td>\n",
       "      <td>old</td>\n",
       "      <td>50.4</td>\n",
       "    </tr>\n",
       "    <tr>\n",
       "      <th>7</th>\n",
       "      <td>대구/경북</td>\n",
       "      <td>middle</td>\n",
       "      <td>29.6</td>\n",
       "    </tr>\n",
       "    <tr>\n",
       "      <th>8</th>\n",
       "      <td>대구/경북</td>\n",
       "      <td>young</td>\n",
       "      <td>20.0</td>\n",
       "    </tr>\n",
       "    <tr>\n",
       "      <th>9</th>\n",
       "      <td>대전/충남</td>\n",
       "      <td>old</td>\n",
       "      <td>41.3</td>\n",
       "    </tr>\n",
       "  </tbody>\n",
       "</table>\n",
       "</div>"
      ],
      "text/plain": [
       "         region    ageg  proportion\n",
       "0         강원/충북     old        45.9\n",
       "1         강원/충북  middle        30.9\n",
       "2         강원/충북   young        23.2\n",
       "3  광주/전남/전북/제주도     old        44.9\n",
       "4  광주/전남/전북/제주도  middle        31.8\n",
       "5  광주/전남/전북/제주도   young        23.3\n",
       "6         대구/경북     old        50.4\n",
       "7         대구/경북  middle        29.6\n",
       "8         대구/경북   young        20.0\n",
       "9         대전/충남     old        41.3"
      ]
     },
     "execution_count": 150,
     "metadata": {},
     "output_type": "execute_result"
    }
   ],
   "source": [
    "region_ageg.head(10)"
   ]
  },
  {
   "cell_type": "code",
   "execution_count": 161,
   "id": "4819794e",
   "metadata": {},
   "outputs": [
    {
     "data": {
      "text/html": [
       "<div>\n",
       "<style scoped>\n",
       "    .dataframe tbody tr th:only-of-type {\n",
       "        vertical-align: middle;\n",
       "    }\n",
       "\n",
       "    .dataframe tbody tr th {\n",
       "        vertical-align: top;\n",
       "    }\n",
       "\n",
       "    .dataframe thead th {\n",
       "        text-align: right;\n",
       "    }\n",
       "</style>\n",
       "<table border=\"1\" class=\"dataframe\">\n",
       "  <thead>\n",
       "    <tr style=\"text-align: right;\">\n",
       "      <th>ageg</th>\n",
       "      <th>middle</th>\n",
       "      <th>old</th>\n",
       "      <th>young</th>\n",
       "    </tr>\n",
       "    <tr>\n",
       "      <th>region</th>\n",
       "      <th></th>\n",
       "      <th></th>\n",
       "      <th></th>\n",
       "    </tr>\n",
       "  </thead>\n",
       "  <tbody>\n",
       "    <tr>\n",
       "      <th>강원/충북</th>\n",
       "      <td>30.9</td>\n",
       "      <td>45.9</td>\n",
       "      <td>23.2</td>\n",
       "    </tr>\n",
       "    <tr>\n",
       "      <th>광주/전남/전북/제주도</th>\n",
       "      <td>31.8</td>\n",
       "      <td>44.9</td>\n",
       "      <td>23.3</td>\n",
       "    </tr>\n",
       "    <tr>\n",
       "      <th>대구/경북</th>\n",
       "      <td>29.6</td>\n",
       "      <td>50.4</td>\n",
       "      <td>20.0</td>\n",
       "    </tr>\n",
       "    <tr>\n",
       "      <th>대전/충남</th>\n",
       "      <td>33.6</td>\n",
       "      <td>41.3</td>\n",
       "      <td>25.0</td>\n",
       "    </tr>\n",
       "    <tr>\n",
       "      <th>부산/경남/울산</th>\n",
       "      <td>33.4</td>\n",
       "      <td>43.8</td>\n",
       "      <td>22.9</td>\n",
       "    </tr>\n",
       "    <tr>\n",
       "      <th>서울</th>\n",
       "      <td>38.5</td>\n",
       "      <td>37.6</td>\n",
       "      <td>23.9</td>\n",
       "    </tr>\n",
       "    <tr>\n",
       "      <th>수도권(인천,경기)</th>\n",
       "      <td>38.8</td>\n",
       "      <td>32.5</td>\n",
       "      <td>28.7</td>\n",
       "    </tr>\n",
       "  </tbody>\n",
       "</table>\n",
       "</div>"
      ],
      "text/plain": [
       "ageg          middle   old  young\n",
       "region                           \n",
       "강원/충북           30.9  45.9   23.2\n",
       "광주/전남/전북/제주도    31.8  44.9   23.3\n",
       "대구/경북           29.6  50.4   20.0\n",
       "대전/충남           33.6  41.3   25.0\n",
       "부산/경남/울산        33.4  43.8   22.9\n",
       "서울              38.5  37.6   23.9\n",
       "수도권(인천,경기)      38.8  32.5   28.7"
      ]
     },
     "execution_count": 161,
     "metadata": {},
     "output_type": "execute_result"
    }
   ],
   "source": [
    "pivot_df = region_ageg.pivot(index = 'region',\\\n",
    "                             columns = 'ageg',\\\n",
    "                             values = 'proportion')\n",
    "pivot_df"
   ]
  },
  {
   "cell_type": "markdown",
   "id": "21f505b7",
   "metadata": {},
   "source": [
    "> (1) 그래프 만들기"
   ]
  },
  {
   "cell_type": "code",
   "execution_count": 164,
   "id": "b9ab97e9",
   "metadata": {},
   "outputs": [
    {
     "data": {
      "text/plain": [
       "<Axes: ylabel='region'>"
      ]
     },
     "execution_count": 164,
     "metadata": {},
     "output_type": "execute_result"
    },
    {
     "data": {
      "image/png": "[encoded data removed]",
      "text/plain": [
       "<Figure size 640x480 with 1 Axes>"
      ]
     },
     "metadata": {},
     "output_type": "display_data"
    }
   ],
   "source": [
    "pivot_df.plot.barh(stacked = True)"
   ]
  },
  {
   "cell_type": "code",
   "execution_count": 166,
   "id": "17136bde-2b09-4f1b-a4ba-62f5ed25b06d",
   "metadata": {},
   "outputs": [
    {
     "data": {
      "text/html": [
       "<div>\n",
       "<style scoped>\n",
       "    .dataframe tbody tr th:only-of-type {\n",
       "        vertical-align: middle;\n",
       "    }\n",
       "\n",
       "    .dataframe tbody tr th {\n",
       "        vertical-align: top;\n",
       "    }\n",
       "\n",
       "    .dataframe thead th {\n",
       "        text-align: right;\n",
       "    }\n",
       "</style>\n",
       "<table border=\"1\" class=\"dataframe\">\n",
       "  <thead>\n",
       "    <tr style=\"text-align: right;\">\n",
       "      <th>ageg</th>\n",
       "      <th>young</th>\n",
       "      <th>middle</th>\n",
       "      <th>old</th>\n",
       "    </tr>\n",
       "    <tr>\n",
       "      <th>region</th>\n",
       "      <th></th>\n",
       "      <th></th>\n",
       "      <th></th>\n",
       "    </tr>\n",
       "  </thead>\n",
       "  <tbody>\n",
       "    <tr>\n",
       "      <th>수도권(인천,경기)</th>\n",
       "      <td>28.7</td>\n",
       "      <td>38.8</td>\n",
       "      <td>32.5</td>\n",
       "    </tr>\n",
       "    <tr>\n",
       "      <th>서울</th>\n",
       "      <td>23.9</td>\n",
       "      <td>38.5</td>\n",
       "      <td>37.6</td>\n",
       "    </tr>\n",
       "    <tr>\n",
       "      <th>대전/충남</th>\n",
       "      <td>25.0</td>\n",
       "      <td>33.6</td>\n",
       "      <td>41.3</td>\n",
       "    </tr>\n",
       "    <tr>\n",
       "      <th>부산/경남/울산</th>\n",
       "      <td>22.9</td>\n",
       "      <td>33.4</td>\n",
       "      <td>43.8</td>\n",
       "    </tr>\n",
       "    <tr>\n",
       "      <th>광주/전남/전북/제주도</th>\n",
       "      <td>23.3</td>\n",
       "      <td>31.8</td>\n",
       "      <td>44.9</td>\n",
       "    </tr>\n",
       "    <tr>\n",
       "      <th>강원/충북</th>\n",
       "      <td>23.2</td>\n",
       "      <td>30.9</td>\n",
       "      <td>45.9</td>\n",
       "    </tr>\n",
       "    <tr>\n",
       "      <th>대구/경북</th>\n",
       "      <td>20.0</td>\n",
       "      <td>29.6</td>\n",
       "      <td>50.4</td>\n",
       "    </tr>\n",
       "  </tbody>\n",
       "</table>\n",
       "</div>"
      ],
      "text/plain": [
       "ageg          young  middle   old\n",
       "region                           \n",
       "수도권(인천,경기)     28.7    38.8  32.5\n",
       "서울             23.9    38.5  37.6\n",
       "대전/충남          25.0    33.6  41.3\n",
       "부산/경남/울산       22.9    33.4  43.8\n",
       "광주/전남/전북/제주도   23.3    31.8  44.9\n",
       "강원/충북          23.2    30.9  45.9\n",
       "대구/경북          20.0    29.6  50.4"
      ]
     },
     "execution_count": 166,
     "metadata": {},
     "output_type": "execute_result"
    }
   ],
   "source": [
    "reorder_df = pivot_df.sort_values('old')[['young', 'middle','old']]\n",
    "reorder_df"
   ]
  },
  {
   "cell_type": "code",
   "execution_count": 168,
   "id": "507b7cb6-9312-4ebd-8ad1-38c0f9a164c9",
   "metadata": {
    "tags": []
   },
   "outputs": [
    {
     "data": {
      "text/plain": [
       "<Axes: ylabel='region'>"
      ]
     },
     "execution_count": 168,
     "metadata": {},
     "output_type": "execute_result"
    },
    {
     "data": {
      "image/png": "[encoded data removed]",
      "text/plain": [
       "<Figure size 640x480 with 1 Axes>"
      ]
     },
     "metadata": {},
     "output_type": "display_data"
    }
   ],
   "source": [
    "reorder_df.plot.barh(stacked = True)"
   ]
  }
 ],
 "metadata": {
  "kernelspec": {
   "display_name": "Python 3 (ipykernel)",
   "language": "python",
   "name": "python3"
  },
  "language_info": {
   "codemirror_mode": {
    "name": "ipython",
    "version": 3
   },
   "file_extension": ".py",
   "mimetype": "text/x-python",
   "name": "python",
   "nbconvert_exporter": "python",
   "pygments_lexer": "ipython3",
   "version": "3.12.4"
  }
 },
 "nbformat": 4,
 "nbformat_minor": 5
}
